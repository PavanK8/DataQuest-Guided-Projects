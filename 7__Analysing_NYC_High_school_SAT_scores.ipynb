{
 "cells": [
  {
   "cell_type": "markdown",
   "metadata": {},
   "source": [
    "# Read in the data"
   ]
  },
  {
   "cell_type": "code",
   "execution_count": 1,
   "metadata": {
    "collapsed": true
   },
   "outputs": [],
   "source": [
    "import pandas as pd\n",
    "import numpy\n",
    "import re\n",
    "\n",
    "data_files = [\n",
    "    \"ap_2010.csv\",\n",
    "    \"class_size.csv\",\n",
    "    \"demographics.csv\",\n",
    "    \"graduation.csv\",\n",
    "    \"hs_directory.csv\",\n",
    "    \"sat_results.csv\"\n",
    "]\n",
    "\n",
    "data = {}\n",
    "\n",
    "for f in data_files:\n",
    "    d = pd.read_csv(\"schools/{0}\".format(f))\n",
    "    data[f.replace(\".csv\", \"\")] = d"
   ]
  },
  {
   "cell_type": "markdown",
   "metadata": {},
   "source": [
    "# Read in the surveys"
   ]
  },
  {
   "cell_type": "code",
   "execution_count": 2,
   "metadata": {
    "collapsed": true
   },
   "outputs": [],
   "source": [
    "all_survey = pd.read_csv(\"schools/survey_all.txt\", delimiter=\"\\t\", encoding='windows-1252')\n",
    "d75_survey = pd.read_csv(\"schools/survey_d75.txt\", delimiter=\"\\t\", encoding='windows-1252')\n",
    "survey = pd.concat([all_survey, d75_survey], axis=0)\n",
    "\n",
    "survey[\"DBN\"] = survey[\"dbn\"]\n",
    "\n",
    "survey_fields = [\n",
    "    \"DBN\", \n",
    "    \"rr_s\", \n",
    "    \"rr_t\", \n",
    "    \"rr_p\", \n",
    "    \"N_s\", \n",
    "    \"N_t\", \n",
    "    \"N_p\", \n",
    "    \"saf_p_11\", \n",
    "    \"com_p_11\", \n",
    "    \"eng_p_11\", \n",
    "    \"aca_p_11\", \n",
    "    \"saf_t_11\", \n",
    "    \"com_t_11\", \n",
    "    \"eng_t_11\", \n",
    "    \"aca_t_11\", \n",
    "    \"saf_s_11\", \n",
    "    \"com_s_11\", \n",
    "    \"eng_s_11\", \n",
    "    \"aca_s_11\", \n",
    "    \"saf_tot_11\", \n",
    "    \"com_tot_11\", \n",
    "    \"eng_tot_11\", \n",
    "    \"aca_tot_11\",\n",
    "]\n",
    "survey = survey.loc[:,survey_fields]\n",
    "data[\"survey\"] = survey"
   ]
  },
  {
   "cell_type": "markdown",
   "metadata": {},
   "source": [
    "# Add DBN columns"
   ]
  },
  {
   "cell_type": "code",
   "execution_count": 3,
   "metadata": {
    "collapsed": true
   },
   "outputs": [],
   "source": [
    "data[\"hs_directory\"][\"DBN\"] = data[\"hs_directory\"][\"dbn\"]\n",
    "\n",
    "def pad_csd(num):\n",
    "    string_representation = str(num)\n",
    "    if len(string_representation) > 1:\n",
    "        return string_representation\n",
    "    else:\n",
    "        return \"0\" + string_representation\n",
    "    \n",
    "data[\"class_size\"][\"padded_csd\"] = data[\"class_size\"][\"CSD\"].apply(pad_csd)\n",
    "data[\"class_size\"][\"DBN\"] = data[\"class_size\"][\"padded_csd\"] + data[\"class_size\"][\"SCHOOL CODE\"]"
   ]
  },
  {
   "cell_type": "markdown",
   "metadata": {},
   "source": [
    "# Convert columns to numeric"
   ]
  },
  {
   "cell_type": "code",
   "execution_count": 4,
   "metadata": {
    "collapsed": true
   },
   "outputs": [],
   "source": [
    "cols = ['SAT Math Avg. Score', 'SAT Critical Reading Avg. Score', 'SAT Writing Avg. Score']\n",
    "for c in cols:\n",
    "    data[\"sat_results\"][c] = pd.to_numeric(data[\"sat_results\"][c], errors=\"coerce\")\n",
    "\n",
    "data['sat_results']['sat_score'] = data['sat_results'][cols[0]] + data['sat_results'][cols[1]] + data['sat_results'][cols[2]]\n",
    "\n",
    "def find_lat(loc):\n",
    "    coords = re.findall(\"\\(.+, .+\\)\", loc)\n",
    "    lat = coords[0].split(\",\")[0].replace(\"(\", \"\")\n",
    "    return lat\n",
    "\n",
    "def find_lon(loc):\n",
    "    coords = re.findall(\"\\(.+, .+\\)\", loc)\n",
    "    lon = coords[0].split(\",\")[1].replace(\")\", \"\").strip()\n",
    "    return lon\n",
    "\n",
    "data[\"hs_directory\"][\"lat\"] = data[\"hs_directory\"][\"Location 1\"].apply(find_lat)\n",
    "data[\"hs_directory\"][\"lon\"] = data[\"hs_directory\"][\"Location 1\"].apply(find_lon)\n",
    "\n",
    "data[\"hs_directory\"][\"lat\"] = pd.to_numeric(data[\"hs_directory\"][\"lat\"], errors=\"coerce\")\n",
    "data[\"hs_directory\"][\"lon\"] = pd.to_numeric(data[\"hs_directory\"][\"lon\"], errors=\"coerce\")"
   ]
  },
  {
   "cell_type": "markdown",
   "metadata": {},
   "source": [
    "# Condense datasets"
   ]
  },
  {
   "cell_type": "code",
   "execution_count": 5,
   "metadata": {
    "collapsed": true
   },
   "outputs": [],
   "source": [
    "class_size = data[\"class_size\"]\n",
    "class_size = class_size[class_size[\"GRADE \"] == \"09-12\"]\n",
    "class_size = class_size[class_size[\"PROGRAM TYPE\"] == \"GEN ED\"]\n",
    "\n",
    "class_size = class_size.groupby(\"DBN\").agg(numpy.mean)\n",
    "class_size.reset_index(inplace=True)\n",
    "data[\"class_size\"] = class_size\n",
    "\n",
    "data[\"demographics\"] = data[\"demographics\"][data[\"demographics\"][\"schoolyear\"] == 20112012]\n",
    "\n",
    "data[\"graduation\"] = data[\"graduation\"][data[\"graduation\"][\"Cohort\"] == \"2006\"]\n",
    "data[\"graduation\"] = data[\"graduation\"][data[\"graduation\"][\"Demographic\"] == \"Total Cohort\"]"
   ]
  },
  {
   "cell_type": "markdown",
   "metadata": {},
   "source": [
    "# Convert AP scores to numeric"
   ]
  },
  {
   "cell_type": "code",
   "execution_count": 6,
   "metadata": {
    "collapsed": true
   },
   "outputs": [],
   "source": [
    "cols = ['AP Test Takers ', 'Total Exams Taken', 'Number of Exams with scores 3 4 or 5']\n",
    "\n",
    "for col in cols:\n",
    "    data[\"ap_2010\"][col] = pd.to_numeric(data[\"ap_2010\"][col], errors=\"coerce\")"
   ]
  },
  {
   "cell_type": "markdown",
   "metadata": {},
   "source": [
    "# Combine the datasets"
   ]
  },
  {
   "cell_type": "code",
   "execution_count": 7,
   "metadata": {
    "collapsed": true
   },
   "outputs": [],
   "source": [
    "combined = data[\"sat_results\"]\n",
    "\n",
    "combined = combined.merge(data[\"ap_2010\"], on=\"DBN\", how=\"left\")\n",
    "combined = combined.merge(data[\"graduation\"], on=\"DBN\", how=\"left\")\n",
    "\n",
    "to_merge = [\"class_size\", \"demographics\", \"survey\", \"hs_directory\"]\n",
    "\n",
    "for m in to_merge:\n",
    "    combined = combined.merge(data[m], on=\"DBN\", how=\"inner\")\n",
    "\n",
    "combined = combined.fillna(combined.mean())\n",
    "combined = combined.fillna(0)"
   ]
  },
  {
   "cell_type": "markdown",
   "metadata": {},
   "source": [
    "# Add a school district column for mapping"
   ]
  },
  {
   "cell_type": "code",
   "execution_count": 8,
   "metadata": {
    "collapsed": true
   },
   "outputs": [],
   "source": [
    "def get_first_two_chars(dbn):\n",
    "    return dbn[0:2]\n",
    "\n",
    "combined[\"school_dist\"] = combined[\"DBN\"].apply(get_first_two_chars)"
   ]
  },
  {
   "cell_type": "markdown",
   "metadata": {},
   "source": [
    "# Find correlations"
   ]
  },
  {
   "cell_type": "code",
   "execution_count": 9,
   "metadata": {
    "collapsed": false
   },
   "outputs": [
    {
     "name": "stdout",
     "output_type": "stream",
     "text": [
      "SAT Critical Reading Avg. Score         0.986820\n",
      "SAT Math Avg. Score                     0.972643\n",
      "SAT Writing Avg. Score                  0.987771\n",
      "sat_score                               1.000000\n",
      "AP Test Takers                          0.523140\n",
      "Total Exams Taken                       0.514333\n",
      "Number of Exams with scores 3 4 or 5    0.463245\n",
      "Total Cohort                            0.325144\n",
      "CSD                                     0.042948\n",
      "NUMBER OF STUDENTS / SEATS FILLED       0.394626\n",
      "NUMBER OF SECTIONS                      0.362673\n",
      "AVERAGE CLASS SIZE                      0.381014\n",
      "SIZE OF SMALLEST CLASS                  0.249949\n",
      "SIZE OF LARGEST CLASS                   0.314434\n",
      "SCHOOLWIDE PUPIL-TEACHER RATIO               NaN\n",
      "schoolyear                                   NaN\n",
      "fl_percent                                   NaN\n",
      "frl_percent                            -0.722225\n",
      "total_enrollment                        0.367857\n",
      "ell_num                                -0.153778\n",
      "ell_percent                            -0.398750\n",
      "sped_num                                0.034933\n",
      "sped_percent                           -0.448170\n",
      "asian_num                               0.475445\n",
      "asian_per                               0.570730\n",
      "black_num                               0.027979\n",
      "black_per                              -0.284139\n",
      "hispanic_num                            0.025744\n",
      "hispanic_per                           -0.396985\n",
      "white_num                               0.449559\n",
      "                                          ...   \n",
      "rr_p                                    0.047925\n",
      "N_s                                     0.423463\n",
      "N_t                                     0.291463\n",
      "N_p                                     0.421530\n",
      "saf_p_11                                0.122913\n",
      "com_p_11                               -0.115073\n",
      "eng_p_11                                0.020254\n",
      "aca_p_11                                0.035155\n",
      "saf_t_11                                0.313810\n",
      "com_t_11                                0.082419\n",
      "eng_t_11                                0.036906\n",
      "aca_t_11                                0.132348\n",
      "saf_s_11                                0.337639\n",
      "com_s_11                                0.187370\n",
      "eng_s_11                                0.213822\n",
      "aca_s_11                                0.339435\n",
      "saf_tot_11                              0.318753\n",
      "com_tot_11                              0.077310\n",
      "eng_tot_11                              0.100102\n",
      "aca_tot_11                              0.190966\n",
      "grade_span_max                               NaN\n",
      "expgrade_span_max                            NaN\n",
      "zip                                    -0.063977\n",
      "total_students                          0.407827\n",
      "number_programs                         0.117012\n",
      "priority08                                   NaN\n",
      "priority09                                   NaN\n",
      "priority10                                   NaN\n",
      "lat                                    -0.121029\n",
      "lon                                    -0.132222\n",
      "Name: sat_score, Length: 67, dtype: float64\n"
     ]
    }
   ],
   "source": [
    "correlations = combined.corr()\n",
    "correlations = correlations[\"sat_score\"]\n",
    "print(correlations)"
   ]
  },
  {
   "cell_type": "markdown",
   "metadata": {},
   "source": [
    "# Plotting survey correlations"
   ]
  },
  {
   "cell_type": "code",
   "execution_count": 10,
   "metadata": {
    "collapsed": true
   },
   "outputs": [],
   "source": [
    "# Remove DBN since it's a unique identifier, not a useful numerical value for correlation.\n",
    "survey_fields.remove(\"DBN\")"
   ]
  },
  {
   "cell_type": "code",
   "execution_count": 11,
   "metadata": {
    "collapsed": false
   },
   "outputs": [],
   "source": [
    "%matplotlib inline\n",
    "import matplotlib.pyplot as plt  "
   ]
  },
  {
   "cell_type": "code",
   "execution_count": 12,
   "metadata": {
    "collapsed": false
   },
   "outputs": [
    {
     "name": "stdout",
     "output_type": "stream",
     "text": [
      "['rr_s', 'rr_t', 'rr_p', 'N_s', 'N_t', 'N_p', 'saf_p_11', 'com_p_11', 'eng_p_11', 'aca_p_11', 'saf_t_11', 'com_t_11', 'eng_t_11', 'aca_t_11', 'saf_s_11', 'com_s_11', 'eng_s_11', 'aca_s_11', 'saf_tot_11', 'com_tot_11', 'eng_tot_11', 'aca_tot_11', 'sat_score']\n"
     ]
    }
   ],
   "source": [
    "#print(combined['sat_score'])\n",
    "#print(survey_fields.dtype())\n",
    "interested_fields = survey_fields + ['sat_score']\n",
    "#interested_fields.append('sat_score')\n",
    "print(interested_fields)"
   ]
  },
  {
   "cell_type": "code",
   "execution_count": 13,
   "metadata": {
    "collapsed": false
   },
   "outputs": [],
   "source": [
    "corr = combined[interested_fields].corr()"
   ]
  },
  {
   "cell_type": "code",
   "execution_count": 14,
   "metadata": {
    "collapsed": false
   },
   "outputs": [
    {
     "data": {
      "text/plain": [
       "<matplotlib.text.Text at 0x7ff18375f470>"
      ]
     },
     "execution_count": 14,
     "metadata": {},
     "output_type": "execute_result"
    },
    {
     "data": {
      "image/png": "[encoded data removed]",
      "text/plain": [
       "<matplotlib.figure.Figure at 0x7ff184c85908>"
      ]
     },
     "metadata": {},
     "output_type": "display_data"
    }
   ],
   "source": [
    "correlation_list = corr['sat_score'][0:-1] # removing last element of sat_score\n",
    "fig1 = correlation_list.plot.bar()\n",
    "fig1.set_title('Corelation of survey fields with sat_score')"
   ]
  },
  {
   "cell_type": "markdown",
   "metadata": {},
   "source": [
    "These are the observations\n",
    "- There is some correlation between `N_s`, `N_t`, `N_p` and `sat_score`.\n",
    "- Also `saf_t_11`, `saf_s_11`, `saf_tot_11` are somewhat correlated to high `sat_score`. These correspond to how safe the teachers, students and both percieve the school to be.\n"
   ]
  },
  {
   "cell_type": "markdown",
   "metadata": {},
   "source": [
    "## Exploring safety and SAT scores"
   ]
  },
  {
   "cell_type": "code",
   "execution_count": 15,
   "metadata": {
    "collapsed": false
   },
   "outputs": [
    {
     "data": {
      "text/plain": [
       "<matplotlib.axes._subplots.AxesSubplot at 0x7ff183751b70>"
      ]
     },
     "execution_count": 15,
     "metadata": {},
     "output_type": "execute_result"
    },
    {
     "data": {
      "image/png": "[encoded data removed]",
      "text/plain": [
       "<matplotlib.figure.Figure at 0x7ff1837421d0>"
      ]
     },
     "metadata": {},
     "output_type": "display_data"
    }
   ],
   "source": [
    "combined.plot.scatter('saf_s_11','sat_score')"
   ]
  },
  {
   "cell_type": "markdown",
   "metadata": {},
   "source": [
    "There is no clear correlation between the two variables, but one can notice that for some values, higher `saf_s_11` corresponds to a higher SAT score. Possibly because more safe the student feels, he could concentrate more on the studies and give his best. "
   ]
  },
  {
   "cell_type": "code",
   "execution_count": 16,
   "metadata": {
    "collapsed": false
   },
   "outputs": [
    {
     "data": {
      "text/html": [
       "<div>\n",
       "<style scoped>\n",
       "    .dataframe tbody tr th:only-of-type {\n",
       "        vertical-align: middle;\n",
       "    }\n",
       "\n",
       "    .dataframe tbody tr th {\n",
       "        vertical-align: top;\n",
       "    }\n",
       "\n",
       "    .dataframe thead th {\n",
       "        text-align: right;\n",
       "    }\n",
       "</style>\n",
       "<table border=\"1\" class=\"dataframe\">\n",
       "  <thead>\n",
       "    <tr style=\"text-align: right;\">\n",
       "      <th></th>\n",
       "      <th>DBN</th>\n",
       "      <th>SCHOOL NAME</th>\n",
       "      <th>Num of SAT Test Takers</th>\n",
       "      <th>SAT Critical Reading Avg. Score</th>\n",
       "      <th>SAT Math Avg. Score</th>\n",
       "      <th>SAT Writing Avg. Score</th>\n",
       "      <th>sat_score</th>\n",
       "      <th>SchoolName</th>\n",
       "      <th>AP Test Takers</th>\n",
       "      <th>Total Exams Taken</th>\n",
       "      <th>...</th>\n",
       "      <th>priority05</th>\n",
       "      <th>priority06</th>\n",
       "      <th>priority07</th>\n",
       "      <th>priority08</th>\n",
       "      <th>priority09</th>\n",
       "      <th>priority10</th>\n",
       "      <th>Location 1</th>\n",
       "      <th>lat</th>\n",
       "      <th>lon</th>\n",
       "      <th>school_dist</th>\n",
       "    </tr>\n",
       "  </thead>\n",
       "  <tbody>\n",
       "    <tr>\n",
       "      <th>0</th>\n",
       "      <td>01M292</td>\n",
       "      <td>HENRY STREET SCHOOL FOR INTERNATIONAL STUDIES</td>\n",
       "      <td>29</td>\n",
       "      <td>355.0</td>\n",
       "      <td>404.0</td>\n",
       "      <td>363.0</td>\n",
       "      <td>1122.0</td>\n",
       "      <td>0</td>\n",
       "      <td>129.028846</td>\n",
       "      <td>197.038462</td>\n",
       "      <td>...</td>\n",
       "      <td>Then to New York City residents</td>\n",
       "      <td>0</td>\n",
       "      <td>0</td>\n",
       "      <td>0</td>\n",
       "      <td>0</td>\n",
       "      <td>0</td>\n",
       "      <td>220 Henry Street\\nNew York, NY 10002\\n(40.7137...</td>\n",
       "      <td>40.713764</td>\n",
       "      <td>-73.985260</td>\n",
       "      <td>01</td>\n",
       "    </tr>\n",
       "    <tr>\n",
       "      <th>1</th>\n",
       "      <td>01M448</td>\n",
       "      <td>UNIVERSITY NEIGHBORHOOD HIGH SCHOOL</td>\n",
       "      <td>91</td>\n",
       "      <td>383.0</td>\n",
       "      <td>423.0</td>\n",
       "      <td>366.0</td>\n",
       "      <td>1172.0</td>\n",
       "      <td>UNIVERSITY NEIGHBORHOOD H.S.</td>\n",
       "      <td>39.000000</td>\n",
       "      <td>49.000000</td>\n",
       "      <td>...</td>\n",
       "      <td>0</td>\n",
       "      <td>0</td>\n",
       "      <td>0</td>\n",
       "      <td>0</td>\n",
       "      <td>0</td>\n",
       "      <td>0</td>\n",
       "      <td>200 Monroe Street\\nNew York, NY 10002\\n(40.712...</td>\n",
       "      <td>40.712332</td>\n",
       "      <td>-73.984797</td>\n",
       "      <td>01</td>\n",
       "    </tr>\n",
       "    <tr>\n",
       "      <th>2</th>\n",
       "      <td>01M450</td>\n",
       "      <td>EAST SIDE COMMUNITY SCHOOL</td>\n",
       "      <td>70</td>\n",
       "      <td>377.0</td>\n",
       "      <td>402.0</td>\n",
       "      <td>370.0</td>\n",
       "      <td>1149.0</td>\n",
       "      <td>EAST SIDE COMMUNITY HS</td>\n",
       "      <td>19.000000</td>\n",
       "      <td>21.000000</td>\n",
       "      <td>...</td>\n",
       "      <td>0</td>\n",
       "      <td>0</td>\n",
       "      <td>0</td>\n",
       "      <td>0</td>\n",
       "      <td>0</td>\n",
       "      <td>0</td>\n",
       "      <td>420 East 12 Street\\nNew York, NY 10009\\n(40.72...</td>\n",
       "      <td>40.729783</td>\n",
       "      <td>-73.983041</td>\n",
       "      <td>01</td>\n",
       "    </tr>\n",
       "    <tr>\n",
       "      <th>3</th>\n",
       "      <td>01M509</td>\n",
       "      <td>MARTA VALLE HIGH SCHOOL</td>\n",
       "      <td>44</td>\n",
       "      <td>390.0</td>\n",
       "      <td>433.0</td>\n",
       "      <td>384.0</td>\n",
       "      <td>1207.0</td>\n",
       "      <td>0</td>\n",
       "      <td>129.028846</td>\n",
       "      <td>197.038462</td>\n",
       "      <td>...</td>\n",
       "      <td>0</td>\n",
       "      <td>0</td>\n",
       "      <td>0</td>\n",
       "      <td>0</td>\n",
       "      <td>0</td>\n",
       "      <td>0</td>\n",
       "      <td>145 Stanton Street\\nNew York, NY 10002\\n(40.72...</td>\n",
       "      <td>40.720569</td>\n",
       "      <td>-73.985673</td>\n",
       "      <td>01</td>\n",
       "    </tr>\n",
       "    <tr>\n",
       "      <th>4</th>\n",
       "      <td>01M539</td>\n",
       "      <td>NEW EXPLORATIONS INTO SCIENCE, TECHNOLOGY AND ...</td>\n",
       "      <td>159</td>\n",
       "      <td>522.0</td>\n",
       "      <td>574.0</td>\n",
       "      <td>525.0</td>\n",
       "      <td>1621.0</td>\n",
       "      <td>NEW EXPLORATIONS SCI,TECH,MATH</td>\n",
       "      <td>255.000000</td>\n",
       "      <td>377.000000</td>\n",
       "      <td>...</td>\n",
       "      <td>0</td>\n",
       "      <td>0</td>\n",
       "      <td>0</td>\n",
       "      <td>0</td>\n",
       "      <td>0</td>\n",
       "      <td>0</td>\n",
       "      <td>111 Columbia Street\\nNew York, NY 10002\\n(40.7...</td>\n",
       "      <td>40.718725</td>\n",
       "      <td>-73.979426</td>\n",
       "      <td>01</td>\n",
       "    </tr>\n",
       "  </tbody>\n",
       "</table>\n",
       "<p>5 rows × 160 columns</p>\n",
       "</div>"
      ],
      "text/plain": [
       "      DBN                                        SCHOOL NAME  \\\n",
       "0  01M292      HENRY STREET SCHOOL FOR INTERNATIONAL STUDIES   \n",
       "1  01M448                UNIVERSITY NEIGHBORHOOD HIGH SCHOOL   \n",
       "2  01M450                         EAST SIDE COMMUNITY SCHOOL   \n",
       "3  01M509                            MARTA VALLE HIGH SCHOOL   \n",
       "4  01M539  NEW EXPLORATIONS INTO SCIENCE, TECHNOLOGY AND ...   \n",
       "\n",
       "  Num of SAT Test Takers  SAT Critical Reading Avg. Score  \\\n",
       "0                     29                            355.0   \n",
       "1                     91                            383.0   \n",
       "2                     70                            377.0   \n",
       "3                     44                            390.0   \n",
       "4                    159                            522.0   \n",
       "\n",
       "   SAT Math Avg. Score  SAT Writing Avg. Score  sat_score  \\\n",
       "0                404.0                   363.0     1122.0   \n",
       "1                423.0                   366.0     1172.0   \n",
       "2                402.0                   370.0     1149.0   \n",
       "3                433.0                   384.0     1207.0   \n",
       "4                574.0                   525.0     1621.0   \n",
       "\n",
       "                       SchoolName  AP Test Takers   Total Exams Taken  \\\n",
       "0                               0       129.028846         197.038462   \n",
       "1    UNIVERSITY NEIGHBORHOOD H.S.        39.000000          49.000000   \n",
       "2          EAST SIDE COMMUNITY HS        19.000000          21.000000   \n",
       "3                               0       129.028846         197.038462   \n",
       "4  NEW EXPLORATIONS SCI,TECH,MATH       255.000000         377.000000   \n",
       "\n",
       "      ...                           priority05 priority06 priority07  \\\n",
       "0     ...      Then to New York City residents          0          0   \n",
       "1     ...                                    0          0          0   \n",
       "2     ...                                    0          0          0   \n",
       "3     ...                                    0          0          0   \n",
       "4     ...                                    0          0          0   \n",
       "\n",
       "  priority08  priority09 priority10  \\\n",
       "0          0           0          0   \n",
       "1          0           0          0   \n",
       "2          0           0          0   \n",
       "3          0           0          0   \n",
       "4          0           0          0   \n",
       "\n",
       "                                          Location 1        lat        lon  \\\n",
       "0  220 Henry Street\\nNew York, NY 10002\\n(40.7137...  40.713764 -73.985260   \n",
       "1  200 Monroe Street\\nNew York, NY 10002\\n(40.712...  40.712332 -73.984797   \n",
       "2  420 East 12 Street\\nNew York, NY 10009\\n(40.72...  40.729783 -73.983041   \n",
       "3  145 Stanton Street\\nNew York, NY 10002\\n(40.72...  40.720569 -73.985673   \n",
       "4  111 Columbia Street\\nNew York, NY 10002\\n(40.7...  40.718725 -73.979426   \n",
       "\n",
       "  school_dist  \n",
       "0          01  \n",
       "1          01  \n",
       "2          01  \n",
       "3          01  \n",
       "4          01  \n",
       "\n",
       "[5 rows x 160 columns]"
      ]
     },
     "execution_count": 16,
     "metadata": {},
     "output_type": "execute_result"
    }
   ],
   "source": [
    "combined.head()"
   ]
  },
  {
   "cell_type": "markdown",
   "metadata": {},
   "source": [
    "#### Analysis of SAT scores by districts"
   ]
  },
  {
   "cell_type": "code",
   "execution_count": 17,
   "metadata": {
    "collapsed": false
   },
   "outputs": [
    {
     "data": {
      "text/plain": [
       "02    48\n",
       "10    22\n",
       "09    20\n",
       "11    15\n",
       "14    14\n",
       "17    14\n",
       "07    13\n",
       "24    13\n",
       "13    13\n",
       "03    12\n",
       "19    12\n",
       "12    12\n",
       "28    11\n",
       "18    11\n",
       "08    11\n",
       "21    11\n",
       "31    10\n",
       "06    10\n",
       "27    10\n",
       "15     9\n",
       "30     9\n",
       "25     8\n",
       "29     8\n",
       "05     7\n",
       "04     7\n",
       "32     6\n",
       "01     6\n",
       "26     5\n",
       "20     5\n",
       "22     4\n",
       "16     4\n",
       "23     3\n",
       "Name: school_dist, dtype: int64"
      ]
     },
     "execution_count": 17,
     "metadata": {},
     "output_type": "execute_result"
    }
   ],
   "source": [
    "combined['school_dist'].value_counts()"
   ]
  },
  {
   "cell_type": "code",
   "execution_count": 18,
   "metadata": {
    "collapsed": false
   },
   "outputs": [],
   "source": [
    "#computing avg safety score of each district\n",
    "avg_saf_dt = combined.groupby(by = 'school_dist').mean()[['sat_score','saf_s_11','lat', 'lon']]"
   ]
  },
  {
   "cell_type": "code",
   "execution_count": 19,
   "metadata": {
    "collapsed": false
   },
   "outputs": [
    {
     "data": {
      "text/html": [
       "<div>\n",
       "<style scoped>\n",
       "    .dataframe tbody tr th:only-of-type {\n",
       "        vertical-align: middle;\n",
       "    }\n",
       "\n",
       "    .dataframe tbody tr th {\n",
       "        vertical-align: top;\n",
       "    }\n",
       "\n",
       "    .dataframe thead th {\n",
       "        text-align: right;\n",
       "    }\n",
       "</style>\n",
       "<table border=\"1\" class=\"dataframe\">\n",
       "  <thead>\n",
       "    <tr style=\"text-align: right;\">\n",
       "      <th></th>\n",
       "      <th>school_dist</th>\n",
       "      <th>sat_score</th>\n",
       "      <th>saf_s_11</th>\n",
       "      <th>lat</th>\n",
       "      <th>lon</th>\n",
       "    </tr>\n",
       "  </thead>\n",
       "  <tbody>\n",
       "    <tr>\n",
       "      <th>0</th>\n",
       "      <td>01</td>\n",
       "      <td>1354.500000</td>\n",
       "      <td>6.768611</td>\n",
       "      <td>40.719022</td>\n",
       "      <td>-73.982377</td>\n",
       "    </tr>\n",
       "    <tr>\n",
       "      <th>1</th>\n",
       "      <td>02</td>\n",
       "      <td>1295.638184</td>\n",
       "      <td>6.910660</td>\n",
       "      <td>40.739699</td>\n",
       "      <td>-73.991386</td>\n",
       "    </tr>\n",
       "    <tr>\n",
       "      <th>2</th>\n",
       "      <td>03</td>\n",
       "      <td>1293.443035</td>\n",
       "      <td>6.716667</td>\n",
       "      <td>40.781574</td>\n",
       "      <td>-73.977370</td>\n",
       "    </tr>\n",
       "    <tr>\n",
       "      <th>3</th>\n",
       "      <td>04</td>\n",
       "      <td>1224.142857</td>\n",
       "      <td>6.885714</td>\n",
       "      <td>40.793449</td>\n",
       "      <td>-73.943215</td>\n",
       "    </tr>\n",
       "    <tr>\n",
       "      <th>4</th>\n",
       "      <td>05</td>\n",
       "      <td>1285.062687</td>\n",
       "      <td>6.314286</td>\n",
       "      <td>40.817077</td>\n",
       "      <td>-73.949251</td>\n",
       "    </tr>\n",
       "    <tr>\n",
       "      <th>5</th>\n",
       "      <td>06</td>\n",
       "      <td>1164.643881</td>\n",
       "      <td>6.950000</td>\n",
       "      <td>40.848970</td>\n",
       "      <td>-73.932502</td>\n",
       "    </tr>\n",
       "    <tr>\n",
       "      <th>6</th>\n",
       "      <td>07</td>\n",
       "      <td>1128.846154</td>\n",
       "      <td>6.800000</td>\n",
       "      <td>40.816815</td>\n",
       "      <td>-73.919971</td>\n",
       "    </tr>\n",
       "    <tr>\n",
       "      <th>7</th>\n",
       "      <td>08</td>\n",
       "      <td>1159.665129</td>\n",
       "      <td>6.364697</td>\n",
       "      <td>40.823803</td>\n",
       "      <td>-73.866087</td>\n",
       "    </tr>\n",
       "    <tr>\n",
       "      <th>8</th>\n",
       "      <td>09</td>\n",
       "      <td>1131.971940</td>\n",
       "      <td>6.655000</td>\n",
       "      <td>40.836349</td>\n",
       "      <td>-73.906240</td>\n",
       "    </tr>\n",
       "    <tr>\n",
       "      <th>9</th>\n",
       "      <td>10</td>\n",
       "      <td>1222.227273</td>\n",
       "      <td>6.577273</td>\n",
       "      <td>40.870345</td>\n",
       "      <td>-73.898360</td>\n",
       "    </tr>\n",
       "    <tr>\n",
       "      <th>10</th>\n",
       "      <td>11</td>\n",
       "      <td>1165.000000</td>\n",
       "      <td>6.186667</td>\n",
       "      <td>40.873138</td>\n",
       "      <td>-73.856120</td>\n",
       "    </tr>\n",
       "    <tr>\n",
       "      <th>11</th>\n",
       "      <td>12</td>\n",
       "      <td>1101.823134</td>\n",
       "      <td>7.116667</td>\n",
       "      <td>40.831412</td>\n",
       "      <td>-73.886946</td>\n",
       "    </tr>\n",
       "    <tr>\n",
       "      <th>12</th>\n",
       "      <td>13</td>\n",
       "      <td>1237.187600</td>\n",
       "      <td>6.407692</td>\n",
       "      <td>40.692865</td>\n",
       "      <td>-73.977016</td>\n",
       "    </tr>\n",
       "    <tr>\n",
       "      <th>13</th>\n",
       "      <td>14</td>\n",
       "      <td>1179.459915</td>\n",
       "      <td>6.685714</td>\n",
       "      <td>40.711599</td>\n",
       "      <td>-73.948360</td>\n",
       "    </tr>\n",
       "    <tr>\n",
       "      <th>14</th>\n",
       "      <td>15</td>\n",
       "      <td>1190.604312</td>\n",
       "      <td>6.177778</td>\n",
       "      <td>40.675972</td>\n",
       "      <td>-73.989255</td>\n",
       "    </tr>\n",
       "    <tr>\n",
       "      <th>15</th>\n",
       "      <td>16</td>\n",
       "      <td>1120.109701</td>\n",
       "      <td>5.875000</td>\n",
       "      <td>40.688008</td>\n",
       "      <td>-73.929686</td>\n",
       "    </tr>\n",
       "    <tr>\n",
       "      <th>16</th>\n",
       "      <td>17</td>\n",
       "      <td>1161.428571</td>\n",
       "      <td>6.007143</td>\n",
       "      <td>40.660313</td>\n",
       "      <td>-73.955636</td>\n",
       "    </tr>\n",
       "    <tr>\n",
       "      <th>17</th>\n",
       "      <td>18</td>\n",
       "      <td>1118.000000</td>\n",
       "      <td>6.190909</td>\n",
       "      <td>40.641863</td>\n",
       "      <td>-73.914726</td>\n",
       "    </tr>\n",
       "    <tr>\n",
       "      <th>18</th>\n",
       "      <td>19</td>\n",
       "      <td>1103.833333</td>\n",
       "      <td>6.150000</td>\n",
       "      <td>40.676547</td>\n",
       "      <td>-73.882158</td>\n",
       "    </tr>\n",
       "    <tr>\n",
       "      <th>19</th>\n",
       "      <td>20</td>\n",
       "      <td>1273.687761</td>\n",
       "      <td>7.120000</td>\n",
       "      <td>40.626751</td>\n",
       "      <td>-74.006191</td>\n",
       "    </tr>\n",
       "    <tr>\n",
       "      <th>20</th>\n",
       "      <td>21</td>\n",
       "      <td>1206.312619</td>\n",
       "      <td>6.390909</td>\n",
       "      <td>40.593596</td>\n",
       "      <td>-73.978465</td>\n",
       "    </tr>\n",
       "    <tr>\n",
       "      <th>21</th>\n",
       "      <td>22</td>\n",
       "      <td>1450.500000</td>\n",
       "      <td>7.025000</td>\n",
       "      <td>40.618285</td>\n",
       "      <td>-73.952288</td>\n",
       "    </tr>\n",
       "    <tr>\n",
       "      <th>22</th>\n",
       "      <td>23</td>\n",
       "      <td>1157.333333</td>\n",
       "      <td>6.233333</td>\n",
       "      <td>40.668586</td>\n",
       "      <td>-73.912298</td>\n",
       "    </tr>\n",
       "    <tr>\n",
       "      <th>23</th>\n",
       "      <td>24</td>\n",
       "      <td>1242.000000</td>\n",
       "      <td>7.107692</td>\n",
       "      <td>40.740621</td>\n",
       "      <td>-73.911518</td>\n",
       "    </tr>\n",
       "    <tr>\n",
       "      <th>24</th>\n",
       "      <td>25</td>\n",
       "      <td>1357.000000</td>\n",
       "      <td>6.912500</td>\n",
       "      <td>40.745414</td>\n",
       "      <td>-73.815558</td>\n",
       "    </tr>\n",
       "    <tr>\n",
       "      <th>25</th>\n",
       "      <td>26</td>\n",
       "      <td>1377.600000</td>\n",
       "      <td>6.760000</td>\n",
       "      <td>40.748507</td>\n",
       "      <td>-73.759176</td>\n",
       "    </tr>\n",
       "    <tr>\n",
       "      <th>26</th>\n",
       "      <td>27</td>\n",
       "      <td>1224.300000</td>\n",
       "      <td>6.390000</td>\n",
       "      <td>40.638828</td>\n",
       "      <td>-73.807823</td>\n",
       "    </tr>\n",
       "    <tr>\n",
       "      <th>27</th>\n",
       "      <td>28</td>\n",
       "      <td>1347.846947</td>\n",
       "      <td>6.627273</td>\n",
       "      <td>40.709344</td>\n",
       "      <td>-73.806367</td>\n",
       "    </tr>\n",
       "    <tr>\n",
       "      <th>28</th>\n",
       "      <td>29</td>\n",
       "      <td>1181.929851</td>\n",
       "      <td>6.075000</td>\n",
       "      <td>40.685276</td>\n",
       "      <td>-73.752740</td>\n",
       "    </tr>\n",
       "    <tr>\n",
       "      <th>29</th>\n",
       "      <td>30</td>\n",
       "      <td>1326.382090</td>\n",
       "      <td>7.033333</td>\n",
       "      <td>40.755398</td>\n",
       "      <td>-73.932306</td>\n",
       "    </tr>\n",
       "    <tr>\n",
       "      <th>30</th>\n",
       "      <td>31</td>\n",
       "      <td>1382.500000</td>\n",
       "      <td>6.530000</td>\n",
       "      <td>40.595680</td>\n",
       "      <td>-74.125726</td>\n",
       "    </tr>\n",
       "    <tr>\n",
       "      <th>31</th>\n",
       "      <td>32</td>\n",
       "      <td>1119.500000</td>\n",
       "      <td>6.766667</td>\n",
       "      <td>40.696295</td>\n",
       "      <td>-73.917124</td>\n",
       "    </tr>\n",
       "  </tbody>\n",
       "</table>\n",
       "</div>"
      ],
      "text/plain": [
       "   school_dist    sat_score  saf_s_11        lat        lon\n",
       "0           01  1354.500000  6.768611  40.719022 -73.982377\n",
       "1           02  1295.638184  6.910660  40.739699 -73.991386\n",
       "2           03  1293.443035  6.716667  40.781574 -73.977370\n",
       "3           04  1224.142857  6.885714  40.793449 -73.943215\n",
       "4           05  1285.062687  6.314286  40.817077 -73.949251\n",
       "5           06  1164.643881  6.950000  40.848970 -73.932502\n",
       "6           07  1128.846154  6.800000  40.816815 -73.919971\n",
       "7           08  1159.665129  6.364697  40.823803 -73.866087\n",
       "8           09  1131.971940  6.655000  40.836349 -73.906240\n",
       "9           10  1222.227273  6.577273  40.870345 -73.898360\n",
       "10          11  1165.000000  6.186667  40.873138 -73.856120\n",
       "11          12  1101.823134  7.116667  40.831412 -73.886946\n",
       "12          13  1237.187600  6.407692  40.692865 -73.977016\n",
       "13          14  1179.459915  6.685714  40.711599 -73.948360\n",
       "14          15  1190.604312  6.177778  40.675972 -73.989255\n",
       "15          16  1120.109701  5.875000  40.688008 -73.929686\n",
       "16          17  1161.428571  6.007143  40.660313 -73.955636\n",
       "17          18  1118.000000  6.190909  40.641863 -73.914726\n",
       "18          19  1103.833333  6.150000  40.676547 -73.882158\n",
       "19          20  1273.687761  7.120000  40.626751 -74.006191\n",
       "20          21  1206.312619  6.390909  40.593596 -73.978465\n",
       "21          22  1450.500000  7.025000  40.618285 -73.952288\n",
       "22          23  1157.333333  6.233333  40.668586 -73.912298\n",
       "23          24  1242.000000  7.107692  40.740621 -73.911518\n",
       "24          25  1357.000000  6.912500  40.745414 -73.815558\n",
       "25          26  1377.600000  6.760000  40.748507 -73.759176\n",
       "26          27  1224.300000  6.390000  40.638828 -73.807823\n",
       "27          28  1347.846947  6.627273  40.709344 -73.806367\n",
       "28          29  1181.929851  6.075000  40.685276 -73.752740\n",
       "29          30  1326.382090  7.033333  40.755398 -73.932306\n",
       "30          31  1382.500000  6.530000  40.595680 -74.125726\n",
       "31          32  1119.500000  6.766667  40.696295 -73.917124"
      ]
     },
     "execution_count": 19,
     "metadata": {},
     "output_type": "execute_result"
    }
   ],
   "source": [
    "avg_saf_dt.reset_index(inplace = True)\n",
    "avg_saf_dt"
   ]
  },
  {
   "cell_type": "code",
   "execution_count": 20,
   "metadata": {
    "collapsed": false
   },
   "outputs": [
    {
     "data": {
      "text/plain": [
       "<matplotlib.axes._subplots.AxesSubplot at 0x7ff183735128>"
      ]
     },
     "execution_count": 20,
     "metadata": {},
     "output_type": "execute_result"
    },
    {
     "data": {
      "image/png": "[encoded data removed]",
      "text/plain": [
       "<matplotlib.figure.Figure at 0x7ff183737470>"
      ]
     },
     "metadata": {},
     "output_type": "display_data"
    }
   ],
   "source": [
    "avg_saf_dt.plot.scatter('saf_s_11', 'sat_score')"
   ]
  },
  {
   "cell_type": "markdown",
   "metadata": {},
   "source": [
    "Here the trend is more clear. **Students are generally scoring more in SAT in the places where they feel they are safe**.\n",
    "\n",
    "\n",
    "** However there are exceptions too.** Let us look at the geography."
   ]
  },
  {
   "cell_type": "code",
   "execution_count": 21,
   "metadata": {
    "collapsed": false
   },
   "outputs": [
    {
     "data": {
      "image/png": "[encoded data removed]",
      "text/plain": [
       "<matplotlib.figure.Figure at 0x7ff183781b00>"
      ]
     },
     "metadata": {},
     "output_type": "display_data"
    }
   ],
   "source": [
    "latitudes = avg_saf_dt['lat'].tolist()\n",
    "longitudes = avg_saf_dt['lon'].tolist()\n",
    "\n",
    "from mpl_toolkits.basemap import Basemap\n",
    "import matplotlib.pyplot as plt\n",
    "# setup Lambert Conformal basemap.\n",
    "m = Basemap(projection='merc', llcrnrlat=40.496044, urcrnrlat=40.915256, llcrnrlon=-74.255735, urcrnrlon=-73.700272, resolution='i')\n",
    "\n",
    "\n",
    "m.scatter(longitudes, latitudes, latlon = True, s=50, zorder = 2, c=avg_saf_dt[\"saf_s_11\"], cmap=\"summer\")\n",
    "\n",
    "m.drawmapboundary(fill_color='#85A6D9')\n",
    "m.drawcoastlines(color='#6D5F47', linewidth=.4)\n",
    "m.drawrivers(color='#6D5F47', linewidth=.4)\n",
    "plt.show()"
   ]
  },
  {
   "cell_type": "markdown",
   "metadata": {},
   "source": [
    "It looks like Upper Manhattan and parts of Queens and the Bronx tend to have higher safety scores, whereas Brooklyn has low safety scores."
   ]
  },
  {
   "cell_type": "markdown",
   "metadata": {
    "collapsed": true
   },
   "source": [
    "# Exploring Race and SAT scores"
   ]
  },
  {
   "cell_type": "code",
   "execution_count": 22,
   "metadata": {
    "collapsed": false
   },
   "outputs": [],
   "source": [
    "race_fields = ['white_per', 'asian_per', 'black_per', 'hispanic_per', 'sat_score']\n",
    "race_corr = combined[race_fields].corr()['sat_score'][0:-1] # removing last element of sat_score\n"
   ]
  },
  {
   "cell_type": "code",
   "execution_count": 23,
   "metadata": {
    "collapsed": false
   },
   "outputs": [
    {
     "data": {
      "text/plain": [
       "white_per       0.620718\n",
       "asian_per       0.570730\n",
       "black_per      -0.284139\n",
       "hispanic_per   -0.396985\n",
       "Name: sat_score, dtype: float64"
      ]
     },
     "execution_count": 23,
     "metadata": {},
     "output_type": "execute_result"
    }
   ],
   "source": [
    "race_corr"
   ]
  },
  {
   "cell_type": "code",
   "execution_count": 24,
   "metadata": {
    "collapsed": false
   },
   "outputs": [
    {
     "data": {
      "text/plain": [
       "<matplotlib.axes._subplots.AxesSubplot at 0x7ff183775588>"
      ]
     },
     "execution_count": 24,
     "metadata": {},
     "output_type": "execute_result"
    },
    {
     "data": {
      "image/png": "[encoded data removed]",
      "text/plain": [
       "<matplotlib.figure.Figure at 0x7ff183772ba8>"
      ]
     },
     "metadata": {},
     "output_type": "display_data"
    }
   ],
   "source": [
    "race_corr.plot.bar()"
   ]
  },
  {
   "cell_type": "markdown",
   "metadata": {},
   "source": [
    "#### Observations\n",
    "- There is a good positive correlation between the percentage of `white` and `asian` students and SAT scores\n",
    "- Also, there is negative correlation between the percentage of `black` and `hispanic` students and SAT scores\n",
    "\n",
    "These may also be related to demographic layout of certain districts. Like say, if a schools of a particular area are from a poor neighbourhood, where certain race population could be concentrated.\n",
    "\n",
    "To explore further, let us analyse `percentage of hispanic population` vs `SAT score`"
   ]
  },
  {
   "cell_type": "code",
   "execution_count": 25,
   "metadata": {
    "collapsed": false
   },
   "outputs": [
    {
     "data": {
      "text/plain": [
       "<matplotlib.axes._subplots.AxesSubplot at 0x7ff182eef240>"
      ]
     },
     "execution_count": 25,
     "metadata": {},
     "output_type": "execute_result"
    },
    {
     "data": {
      "image/png": "[encoded data removed]",
      "text/plain": [
       "<matplotlib.figure.Figure at 0x7ff182ef36a0>"
      ]
     },
     "metadata": {},
     "output_type": "display_data"
    }
   ],
   "source": [
    "combined[race_fields].plot.scatter(x = 'hispanic_per', y = 'sat_score')"
   ]
  },
  {
   "cell_type": "markdown",
   "metadata": {
    "collapsed": true
   },
   "source": [
    "It does look like there is a negative correlation of `SAT score` with `Hispanic percentages` but it should also be noted that there are many schools in which the `SAT scores` were less but had very few hispanic students. Maybe it should be looked from geographic and economic situation perspective to get better insights."
   ]
  },
  {
   "cell_type": "code",
   "execution_count": 29,
   "metadata": {
    "collapsed": false
   },
   "outputs": [
    {
     "data": {
      "text/plain": [
       "44                         Manhattan Bridges High School\n",
       "82      Washington Heights Expeditionary Learning School\n",
       "89     Gregorio Luperon High School for Science and M...\n",
       "125                  Academy for Language and Technology\n",
       "141                International School for Liberal Arts\n",
       "176     Pan American International High School at Monroe\n",
       "253                            Multicultural High School\n",
       "286               Pan American International High School\n",
       "Name: school_name, dtype: object"
      ]
     },
     "execution_count": 29,
     "metadata": {},
     "output_type": "execute_result"
    }
   ],
   "source": [
    "# schools with ver high hispanic percentage\n",
    "high_hispanic_per = combined[combined['hispanic_per'] > 95]\n",
    "high_hispanic_per['school_name']"
   ]
  },
  {
   "cell_type": "markdown",
   "metadata": {},
   "source": [
    "The schools listed above appear to primarily be geared towards recent immigrants to the US. These schools have a lot of students who are learning English, which would explain the lower SAT scores."
   ]
  },
  {
   "cell_type": "code",
   "execution_count": 30,
   "metadata": {
    "collapsed": false
   },
   "outputs": [
    {
     "data": {
      "text/plain": [
       "37                                Stuyvesant High School\n",
       "151                         Bronx High School of Science\n",
       "187                       Brooklyn Technical High School\n",
       "327    Queens High School for the Sciences at York Co...\n",
       "356                  Staten Island Technical High School\n",
       "Name: school_name, dtype: object"
      ]
     },
     "execution_count": 30,
     "metadata": {},
     "output_type": "execute_result"
    }
   ],
   "source": [
    "# schools with a hispanic_per less than 10% and an average SAT score greater than 1800\n",
    "combined[(combined['hispanic_per'] < 10) & (combined['sat_score']> 1800)]['school_name']"
   ]
  },
  {
   "cell_type": "markdown",
   "metadata": {},
   "source": [
    "Many of the schools above appear to be specialized science and technology schools that receive extra funding, and only admit students who pass an entrance exam. This doesn't explain the low hispanic_per, but it does explain why their students tend to do better on the SAT -- they are students from all over New York City who did well on a standardized test."
   ]
  },
  {
   "cell_type": "markdown",
   "metadata": {},
   "source": [
    "# Gender differences and SAT scores"
   ]
  },
  {
   "cell_type": "code",
   "execution_count": 32,
   "metadata": {
    "collapsed": false
   },
   "outputs": [
    {
     "name": "stdout",
     "output_type": "stream",
     "text": [
      "male_per     -0.112062\n",
      "female_per    0.112108\n",
      "Name: sat_score, dtype: float64\n"
     ]
    },
    {
     "data": {
      "text/plain": [
       "<matplotlib.axes._subplots.AxesSubplot at 0x7ff181653c50>"
      ]
     },
     "execution_count": 32,
     "metadata": {},
     "output_type": "execute_result"
    },
    {
     "data": {
      "image/png": "[encoded data removed]",
      "text/plain": [
       "<matplotlib.figure.Figure at 0x7ff182ed7160>"
      ]
     },
     "metadata": {},
     "output_type": "display_data"
    }
   ],
   "source": [
    "gender_corr = combined[['male_per','female_per','sat_score']].corr()['sat_score'][0:-1]\n",
    "print(gender_corr)\n",
    "gender_corr.plot.bar()"
   ]
  },
  {
   "cell_type": "markdown",
   "metadata": {},
   "source": [
    "In the plot above, we can see that a high percentage of females at a school positively correlates with SAT score, whereas a high percentage of males at a school negatively correlates with SAT score. Neither correlation is strong and infact it is very less."
   ]
  },
  {
   "cell_type": "code",
   "execution_count": 33,
   "metadata": {
    "collapsed": false
   },
   "outputs": [
    {
     "data": {
      "text/plain": [
       "<matplotlib.axes._subplots.AxesSubplot at 0x7ff180b584a8>"
      ]
     },
     "execution_count": 33,
     "metadata": {},
     "output_type": "execute_result"
    },
    {
     "data": {
      "image/png": "[encoded data removed]",
      "text/plain": [
       "<matplotlib.figure.Figure at 0x7ff180b4e3c8>"
      ]
     },
     "metadata": {},
     "output_type": "display_data"
    }
   ],
   "source": [
    "combined.plot.scatter(x = 'female_per', y = 'sat_score')"
   ]
  },
  {
   "cell_type": "markdown",
   "metadata": {},
   "source": [
    "One can notice a cluster of high female percentages (60 to 80) and high SAT scores"
   ]
  },
  {
   "cell_type": "code",
   "execution_count": 35,
   "metadata": {
    "collapsed": false
   },
   "outputs": [
    {
     "data": {
      "text/plain": [
       "5                         Bard High School Early College\n",
       "26                         Eleanor Roosevelt High School\n",
       "60                                    Beacon High School\n",
       "61     Fiorello H. LaGuardia High School of Music & A...\n",
       "302                          Townsend Harris High School\n",
       "Name: school_name, dtype: object"
      ]
     },
     "execution_count": 35,
     "metadata": {},
     "output_type": "execute_result"
    }
   ],
   "source": [
    "# schools with a hispanic_per less than 10% and an average SAT score greater than 1800\n",
    "combined[(combined['female_per'] > 60) & (combined['sat_score']> 1700)]['school_name']"
   ]
  },
  {
   "cell_type": "markdown",
   "metadata": {},
   "source": [
    "These schools looks like liberal arts schools with admission tests etc. Possibly suggesting why female percentage is more and high SAT scores."
   ]
  },
  {
   "cell_type": "markdown",
   "metadata": {},
   "source": [
    "# Does AP exam takers score higher in SAT exam ? "
   ]
  },
  {
   "cell_type": "code",
   "execution_count": 37,
   "metadata": {
    "collapsed": false
   },
   "outputs": [
    {
     "name": "stdout",
     "output_type": "stream",
     "text": [
      "ap_per    0.057171\n",
      "Name: sat_score, dtype: float64\n"
     ]
    },
    {
     "data": {
      "text/plain": [
       "<matplotlib.axes._subplots.AxesSubplot at 0x7ff180aa73c8>"
      ]
     },
     "execution_count": 37,
     "metadata": {},
     "output_type": "execute_result"
    },
    {
     "data": {
      "image/png": "[encoded data removed]",
      "text/plain": [
       "<matplotlib.figure.Figure at 0x7ff180a9cf28>"
      ]
     },
     "metadata": {},
     "output_type": "display_data"
    }
   ],
   "source": [
    "combined['ap_per'] = combined['AP Test Takers ']/combined['total_enrollment']\n",
    "print(combined[['ap_per','sat_score']].corr()['sat_score'][0:-1])\n",
    "combined.plot.scatter('ap_per','sat_score')"
   ]
  },
  {
   "cell_type": "markdown",
   "metadata": {},
   "source": [
    "There is no correlation between AP exam and SAT exam takers. Thus it looks like taking AP exam maynot effect the student's performance in the SAT exam"
   ]
  },
  {
   "cell_type": "markdown",
   "metadata": {},
   "source": [
    "# Bonus: Performance of Blacks and Hispanics compared to other races in SAT exam\n",
    "Earlier we have seen that White percentage, Asian percentage were positively correlated with SAT scores where as Blacks and Hispanics were negatively coorelated"
   ]
  },
  {
   "cell_type": "code",
   "execution_count": 38,
   "metadata": {
    "collapsed": false
   },
   "outputs": [
    {
     "name": "stdout",
     "output_type": "stream",
     "text": [
      "white_asian_per       0.724385\n",
      "black_hispanic_per   -0.728650\n",
      "Name: sat_score, dtype: float64\n"
     ]
    },
    {
     "data": {
      "text/plain": [
       "<matplotlib.axes._subplots.AxesSubplot at 0x7ff180a880b8>"
      ]
     },
     "execution_count": 38,
     "metadata": {},
     "output_type": "execute_result"
    },
    {
     "data": {
      "image/png": "[encoded data removed]",
      "text/plain": [
       "<matplotlib.figure.Figure at 0x7ff183759390>"
      ]
     },
     "metadata": {},
     "output_type": "display_data"
    }
   ],
   "source": [
    "combined['white_asian_per'] = combined['white_per'] + combined['asian_per']\n",
    "combined['black_hispanic_per'] = combined['black_per'] + combined['hispanic_per']\n",
    "race_fields = ['white_asian_per', 'black_hispanic_per', 'sat_score' ]\n",
    "race_corr = combined[race_fields].corr()['sat_score'][0:-1]\n",
    "print(race_corr)\n",
    "combined[race_fields].plot.scatter(x = 'black_hispanic_per', y = 'sat_score')"
   ]
  },
  {
   "cell_type": "markdown",
   "metadata": {},
   "source": [
    "There is a strong negative correlation with percentages of black and hispanics with SAT scores. However it should be looked what financial background blacks and hispanics maybe from, where they would be residing etc, because all these factors may play a big role in SAT exam scores"
   ]
  }
 ],
 "metadata": {
  "kernelspec": {
   "display_name": "Python 3",
   "language": "python",
   "name": "python3"
  },
  "language_info": {
   "codemirror_mode": {
    "name": "ipython",
    "version": 3
   },
   "file_extension": ".py",
   "mimetype": "text/x-python",
   "name": "python",
   "nbconvert_exporter": "python",
   "pygments_lexer": "ipython3",
   "version": "3.4.3"
  }
 },
 "nbformat": 4,
 "nbformat_minor": 2
}
