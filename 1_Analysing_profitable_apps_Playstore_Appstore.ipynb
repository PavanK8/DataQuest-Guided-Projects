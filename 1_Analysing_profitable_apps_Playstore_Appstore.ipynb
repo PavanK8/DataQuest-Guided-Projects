{
 "cells": [
  {
   "cell_type": "markdown",
   "metadata": {},
   "source": [
    "# Analysis : Profitable apps on AppStore and PlayStore\n",
    "Aim of the project is to find what are the profitable apps on Apple AppStore and Google PlayStore markets. This project helps the developers and the product team, to make data driven decisions on what kind of apps to be built. \n",
    "\n",
    "For this project, it is assumed that we are interested only in the apps that are free to download and install and our main source of revenue consists of in-app ads. This means that the revenue for any given app is mostly influenced by the number of users that use our app. \n",
    "\n",
    "Goal for this project is to analyze data to help our developers understand what type of apps are likely to attract more users.\n"
   ]
  },
  {
   "cell_type": "markdown",
   "metadata": {},
   "source": [
    "# Opening and exploring the data\n",
    "As of the first quarter of 2020, Android users were able to choose between 2.56 million apps, making Google Play the app store with biggest number of available apps. Apple's App Store was the second-largest app store with almost 1.85 million available apps for iOS. [Source](https://www.statista.com/statistics/276623/number-of-apps-available-in-leading-app-stores/)\n",
    "\n",
    "Instead of scraping the data from the scratch, for this project, we work on existing datasets.\n",
    "- A [data set](https://www.kaggle.com/lava18/google-play-store-apps) containing data about approximately ten thousand Android apps from Google Play. You can download the data set directly from this [link](https://dq-content.s3.amazonaws.com/350/googleplaystore.csv).\n",
    "- A [data set](https://www.kaggle.com/ramamet4/app-store-apple-data-set-10k-apps) containing data about approximately seven thousand iOS apps from the App Store. You can download the data set directly from this [link](https://dq-content.s3.amazonaws.com/350/AppleStore.csv).\n",
    "\n",
    "Let's start by opening the two data sets and then continue with exploring the data."
   ]
  },
  {
   "cell_type": "code",
   "execution_count": 1,
   "metadata": {
    "collapsed": false
   },
   "outputs": [],
   "source": [
    "from csv import reader\n",
    "\n",
    "#Reading appstore data\n",
    "opened_file = open('AppleStore.csv',encoding='utf8')\n",
    "ios_data = list(reader(opened_file)) # Reading as a list of lists\n",
    "ios_header = ios_data[0]\n",
    "ios_app_data = ios_data[1:]\n",
    "\n",
    "#Reading playstore data\n",
    "opened_file = open('googleplaystore.csv',encoding='utf8')\n",
    "android_data = list(reader(opened_file)) # Reading as a list of lists\n",
    "android_header = android_data[0]\n",
    "android_app_data = android_data[1:]\n"
   ]
  },
  {
   "cell_type": "markdown",
   "metadata": {},
   "source": [
    "For easy understanding and explore the desired datasets, we would write a custom function `explore_data()` which has takes in 4 arguments\n",
    "1. `dataset`, which is the desired dataset to be explored\n",
    "2. `start`, which specifies at what row data slicing should start\n",
    "3. `end`, which specifies at what row data slicing ends\n",
    "4. `rows_amd_columns`, a bool value, which tells the function whether there are rows and columns in the dataset. `Default` is `False` "
   ]
  },
  {
   "cell_type": "code",
   "execution_count": 2,
   "metadata": {
    "collapsed": true
   },
   "outputs": [],
   "source": [
    "def explore_data(dataset, start, end, rows_and_columns=False):\n",
    "    dataset_slice = dataset[start:end]    \n",
    "    for row in dataset_slice:\n",
    "        print(row)\n",
    "        print('\\n') # adds a new (empty) line after each row\n",
    "\n",
    "    if rows_and_columns:\n",
    "        print('Number of rows:', len(dataset))\n",
    "        print('Number of columns:', len(dataset[0])) "
   ]
  },
  {
   "cell_type": "code",
   "execution_count": 3,
   "metadata": {
    "collapsed": false
   },
   "outputs": [
    {
     "name": "stdout",
     "output_type": "stream",
     "text": [
      "['Photo Editor & Candy Camera & Grid & ScrapBook', 'ART_AND_DESIGN', '4.1', '159', '19M', '10,000+', 'Free', '0', 'Everyone', 'Art & Design', 'January 7, 2018', '1.0.0', '4.0.3 and up']\n",
      "\n",
      "\n",
      "['Coloring book moana', 'ART_AND_DESIGN', '3.9', '967', '14M', '500,000+', 'Free', '0', 'Everyone', 'Art & Design;Pretend Play', 'January 15, 2018', '2.0.0', '4.0.3 and up']\n",
      "\n",
      "\n",
      "['U Launcher Lite – FREE Live Cool Themes, Hide Apps', 'ART_AND_DESIGN', '4.7', '87510', '8.7M', '5,000,000+', 'Free', '0', 'Everyone', 'Art & Design', 'August 1, 2018', '1.2.4', '4.0.3 and up']\n",
      "\n",
      "\n",
      "['Sketch - Draw & Paint', 'ART_AND_DESIGN', '4.5', '215644', '25M', '50,000,000+', 'Free', '0', 'Teen', 'Art & Design', 'June 8, 2018', 'Varies with device', '4.2 and up']\n",
      "\n",
      "\n",
      "['Pixel Draw - Number Art Coloring Book', 'ART_AND_DESIGN', '4.3', '967', '2.8M', '100,000+', 'Free', '0', 'Everyone', 'Art & Design;Creativity', 'June 20, 2018', '1.1', '4.4 and up']\n",
      "\n",
      "\n",
      "['Paper flowers instructions', 'ART_AND_DESIGN', '4.4', '167', '5.6M', '50,000+', 'Free', '0', 'Everyone', 'Art & Design', 'March 26, 2017', '1.0', '2.3 and up']\n",
      "\n",
      "\n",
      "['Smoke Effect Photo Maker - Smoke Editor', 'ART_AND_DESIGN', '3.8', '178', '19M', '50,000+', 'Free', '0', 'Everyone', 'Art & Design', 'April 26, 2018', '1.1', '4.0.3 and up']\n",
      "\n",
      "\n",
      "['Infinite Painter', 'ART_AND_DESIGN', '4.1', '36815', '29M', '1,000,000+', 'Free', '0', 'Everyone', 'Art & Design', 'June 14, 2018', '6.1.61.1', '4.2 and up']\n",
      "\n",
      "\n",
      "['Garden Coloring Book', 'ART_AND_DESIGN', '4.4', '13791', '33M', '1,000,000+', 'Free', '0', 'Everyone', 'Art & Design', 'September 20, 2017', '2.9.2', '3.0 and up']\n",
      "\n",
      "\n",
      "Number of rows: 10841\n",
      "Number of columns: 13\n",
      "['284882215', 'Facebook', '389879808', 'USD', '0.0', '2974676', '212', '3.5', '3.5', '95.0', '4+', 'Social Networking', '37', '1', '29', '1']\n",
      "\n",
      "\n",
      "['389801252', 'Instagram', '113954816', 'USD', '0.0', '2161558', '1289', '4.5', '4.0', '10.23', '12+', 'Photo & Video', '37', '0', '29', '1']\n",
      "\n",
      "\n",
      "['529479190', 'Clash of Clans', '116476928', 'USD', '0.0', '2130805', '579', '4.5', '4.5', '9.24.12', '9+', 'Games', '38', '5', '18', '1']\n",
      "\n",
      "\n",
      "['420009108', 'Temple Run', '65921024', 'USD', '0.0', '1724546', '3842', '4.5', '4.0', '1.6.2', '9+', 'Games', '40', '5', '1', '1']\n",
      "\n",
      "\n",
      "['284035177', 'Pandora - Music & Radio', '130242560', 'USD', '0.0', '1126879', '3594', '4.0', '4.5', '8.4.1', '12+', 'Music', '37', '4', '1', '1']\n",
      "\n",
      "\n",
      "['429047995', 'Pinterest', '74778624', 'USD', '0.0', '1061624', '1814', '4.5', '4.0', '6.26', '12+', 'Social Networking', '37', '5', '27', '1']\n",
      "\n",
      "\n",
      "['282935706', 'Bible', '92774400', 'USD', '0.0', '985920', '5320', '4.5', '5.0', '7.5.1', '4+', 'Reference', '37', '5', '45', '1']\n",
      "\n",
      "\n",
      "['553834731', 'Candy Crush Saga', '222846976', 'USD', '0.0', '961794', '2453', '4.5', '4.5', '1.101.0', '4+', 'Games', '43', '5', '24', '1']\n",
      "\n",
      "\n",
      "['324684580', 'Spotify Music', '132510720', 'USD', '0.0', '878563', '8253', '4.5', '4.5', '8.4.3', '12+', 'Music', '37', '5', '18', '1']\n",
      "\n",
      "\n",
      "Number of rows: 7197\n",
      "Number of columns: 16\n"
     ]
    }
   ],
   "source": [
    "# Just exploring top 10 to check whether our reading of the data is correct or not\n",
    "android_top10 = explore_data(android_app_data, 0, 9, True)\n",
    "ios_top10 = explore_data(ios_app_data, 0, 9, True)"
   ]
  },
  {
   "cell_type": "markdown",
   "metadata": {},
   "source": [
    "Note that the number of columns in Google Playstore data is `13`, where as number of columns in Apple Appstore data is `16`. Let's print those out and check what are the informative columns in both the datasets. More information about the columns can be found at the description here [Appstore:DataDesc](https://www.kaggle.com/ramamet4/app-store-apple-data-set-10k-apps?select=appleStore_description.csv) and [Playstore:DataDesc](https://www.kaggle.com/lava18/google-play-store-apps?select=googleplaystore.csv)."
   ]
  },
  {
   "cell_type": "code",
   "execution_count": 4,
   "metadata": {
    "collapsed": false
   },
   "outputs": [
    {
     "name": "stdout",
     "output_type": "stream",
     "text": [
      "['id', 'track_name', 'size_bytes', 'currency', 'price', 'rating_count_tot', 'rating_count_ver', 'user_rating', 'user_rating_ver', 'ver', 'cont_rating', 'prime_genre', 'sup_devices.num', 'ipadSc_urls.num', 'lang.num', 'vpp_lic']\n",
      "['App', 'Category', 'Rating', 'Reviews', 'Size', 'Installs', 'Type', 'Price', 'Content Rating', 'Genres', 'Last Updated', 'Current Ver', 'Android Ver']\n"
     ]
    }
   ],
   "source": [
    "print(ios_header)\n",
    "print(android_header)"
   ]
  },
  {
   "cell_type": "markdown",
   "metadata": {},
   "source": [
    "It should be noted that, in the google Playstore data, there's an error in one of the rows (#10472) according to [this](https://www.kaggle.com/lava18/google-play-store-apps/discussion/66015)"
   ]
  },
  {
   "cell_type": "code",
   "execution_count": 5,
   "metadata": {
    "collapsed": false
   },
   "outputs": [
    {
     "name": "stdout",
     "output_type": "stream",
     "text": [
      "['Xposed Wi-Fi-Pwd', 'PERSONALIZATION', '3.5', '1042', '404k', '100,000+', 'Free', '0', 'Everyone', 'Personalization', 'August 5, 2014', '3.0.0', '4.0.3 and up']\n",
      "['Life Made WI-Fi Touchscreen Photo Frame', '1.9', '19', '3.0M', '1,000+', 'Free', '0', 'Everyone', '', 'February 11, 2018', '1.0.19', '4.0 and up']\n"
     ]
    }
   ],
   "source": [
    "print(android_app_data[10471])\n",
    "print(android_app_data[10472])\n"
   ]
  },
  {
   "cell_type": "code",
   "execution_count": 6,
   "metadata": {
    "collapsed": false
   },
   "outputs": [
    {
     "name": "stdout",
     "output_type": "stream",
     "text": [
      "13 12\n"
     ]
    }
   ],
   "source": [
    "print(len(android_app_data[10471]), len(android_app_data[10472]))"
   ]
  },
  {
   "cell_type": "markdown",
   "metadata": {},
   "source": [
    "It can be noted that there are only 12 columns in 10472 row, whereas they are expected to be 13. `Category` is missing from the 10472 row. Also, `prime_genre` is an empty string.   \n",
    "We have two options.\n",
    "1. Delete the row completely.\n",
    "2. Or fill up the missing values with 0 value or some `missing string` so that, our program, which relies on positional arguments doesn't throw out an unexpected result.\n",
    "\n",
    "We will go with option 1."
   ]
  },
  {
   "cell_type": "code",
   "execution_count": 7,
   "metadata": {
    "collapsed": false
   },
   "outputs": [
    {
     "name": "stdout",
     "output_type": "stream",
     "text": [
      "['Jazz Wi-Fi', 'COMMUNICATION', '3.4', '49', '4.0M', '10,000+', 'Free', '0', 'Everyone', 'Communication', 'February 10, 2017', '0.1', '2.3 and up']\n",
      "\n",
      "\n",
      "['Xposed Wi-Fi-Pwd', 'PERSONALIZATION', '3.5', '1042', '404k', '100,000+', 'Free', '0', 'Everyone', 'Personalization', 'August 5, 2014', '3.0.0', '4.0.3 and up']\n",
      "\n",
      "\n",
      "['Life Made WI-Fi Touchscreen Photo Frame', '1.9', '19', '3.0M', '1,000+', 'Free', '0', 'Everyone', '', 'February 11, 2018', '1.0.19', '4.0 and up']\n",
      "\n",
      "\n",
      "['osmino Wi-Fi: free WiFi', 'TOOLS', '4.2', '134203', '4.1M', '10,000,000+', 'Free', '0', 'Everyone', 'Tools', 'August 7, 2018', '6.06.14', '4.4 and up']\n",
      "\n",
      "\n",
      "['Sat-Fi Voice', 'COMMUNICATION', '3.4', '37', '14M', '1,000+', 'Free', '0', 'Everyone', 'Communication', 'November 21, 2014', '2.2.1.5', '2.2 and up']\n",
      "\n",
      "\n",
      "Number of rows: 10841\n",
      "Number of columns: 13\n",
      "None\n"
     ]
    }
   ],
   "source": [
    "# Listing the data before deleting the 10472 row\n",
    "print(explore_data(android_app_data, 10470, 10475, True))"
   ]
  },
  {
   "cell_type": "code",
   "execution_count": 8,
   "metadata": {
    "collapsed": true
   },
   "outputs": [],
   "source": [
    "del android_app_data[10472]"
   ]
  },
  {
   "cell_type": "code",
   "execution_count": 9,
   "metadata": {
    "collapsed": false
   },
   "outputs": [
    {
     "name": "stdout",
     "output_type": "stream",
     "text": [
      "['Jazz Wi-Fi', 'COMMUNICATION', '3.4', '49', '4.0M', '10,000+', 'Free', '0', 'Everyone', 'Communication', 'February 10, 2017', '0.1', '2.3 and up']\n",
      "\n",
      "\n",
      "['Xposed Wi-Fi-Pwd', 'PERSONALIZATION', '3.5', '1042', '404k', '100,000+', 'Free', '0', 'Everyone', 'Personalization', 'August 5, 2014', '3.0.0', '4.0.3 and up']\n",
      "\n",
      "\n",
      "['osmino Wi-Fi: free WiFi', 'TOOLS', '4.2', '134203', '4.1M', '10,000,000+', 'Free', '0', 'Everyone', 'Tools', 'August 7, 2018', '6.06.14', '4.4 and up']\n",
      "\n",
      "\n",
      "['Sat-Fi Voice', 'COMMUNICATION', '3.4', '37', '14M', '1,000+', 'Free', '0', 'Everyone', 'Communication', 'November 21, 2014', '2.2.1.5', '2.2 and up']\n",
      "\n",
      "\n",
      "['Wi-Fi Visualizer', 'TOOLS', '3.9', '132', '2.6M', '50,000+', 'Free', '0', 'Everyone', 'Tools', 'May 17, 2017', '0.0.9', '2.3 and up']\n",
      "\n",
      "\n",
      "Number of rows: 10840\n",
      "Number of columns: 13\n",
      "None\n"
     ]
    }
   ],
   "source": [
    "# Listing the data after deleting the problametic 10472 row and ensuring the required row is deleted\n",
    "print(explore_data(android_app_data, 10470, 10475, True))"
   ]
  },
  {
   "cell_type": "code",
   "execution_count": 10,
   "metadata": {
    "collapsed": false
   },
   "outputs": [
    {
     "name": "stdout",
     "output_type": "stream",
     "text": [
      "9659 1181\n",
      "7195 2\n",
      "10840\n"
     ]
    }
   ],
   "source": [
    "def seg_duplicate_apps(data_set, idx_app_name):\n",
    "    unique_apps = []\n",
    "    duplicate_apps = []\n",
    "\n",
    "    for app_data in data_set: #each row\n",
    "        name = app_data[idx_app_name]\n",
    "\n",
    "        if name in unique_apps:\n",
    "            # if app already exits in unique apps, remove from unique apps and append to duplicate apps\n",
    "            duplicate_apps.append(name)\n",
    "            #print('App name', name)\n",
    "\n",
    "        else:\n",
    "            unique_apps.append(name)\n",
    "            \n",
    "    return (unique_apps, duplicate_apps)\n",
    "        \n",
    "    \n",
    "android_unique_apps, android_dup_apps = seg_duplicate_apps(android_app_data,0)\n",
    "ios_unique_apps, ios_dup_apps = seg_duplicate_apps(ios_app_data,1)\n",
    "\n",
    "# removing the duplicates. Using set() messes our order but it doesn't effect us\n",
    "'''for app_list in [android_unique_apps, android_dup_apps,ios_unique_apps, ios_dup_apps]:\n",
    "    app_list = list(set(app_list))'''\n",
    "    \n",
    "print(len(android_unique_apps), len(android_dup_apps))\n",
    "print(len(ios_unique_apps), len(ios_dup_apps))\n",
    "print(9659+1181)"
   ]
  },
  {
   "cell_type": "markdown",
   "metadata": {},
   "source": [
    "The above is a function to segregate duplilcated apps from unique apps from a given dataset.\n",
    "\n",
    "**Note**: It should also be noted that there are multiple entries for duplicate apps"
   ]
  },
  {
   "cell_type": "code",
   "execution_count": 11,
   "metadata": {
    "collapsed": false
   },
   "outputs": [
    {
     "name": "stdout",
     "output_type": "stream",
     "text": [
      "['Instagram', 'SOCIAL', '4.5', '66577313', 'Varies with device', '1,000,000,000+', 'Free', '0', 'Teen', 'Social', 'July 31, 2018', 'Varies with device', 'Varies with device']\n",
      "['Instagram', 'SOCIAL', '4.5', '66577446', 'Varies with device', '1,000,000,000+', 'Free', '0', 'Teen', 'Social', 'July 31, 2018', 'Varies with device', 'Varies with device']\n",
      "['Instagram', 'SOCIAL', '4.5', '66577313', 'Varies with device', '1,000,000,000+', 'Free', '0', 'Teen', 'Social', 'July 31, 2018', 'Varies with device', 'Varies with device']\n",
      "['Instagram', 'SOCIAL', '4.5', '66509917', 'Varies with device', '1,000,000,000+', 'Free', '0', 'Teen', 'Social', 'July 31, 2018', 'Varies with device', 'Varies with device']\n"
     ]
    }
   ],
   "source": [
    "for idx,app in enumerate(android_app_data):\n",
    "    name = app[0]\n",
    "    if name == 'Instagram':\n",
    "        print(app)"
   ]
  },
  {
   "cell_type": "markdown",
   "metadata": {},
   "source": [
    "### Analysis on the multiple entries in the data set \n",
    "Here we are looking at all the entries of 'Temple Run 2'.\n",
    "1. The only difference among all the entries is in the column of `Reviews`. Rest of all the columns are exactly the same. \n",
    "2. However, it should also be noted that `Reviews` are not in the ascending order necessarily. We can take a call and represent all the entries with the most recent entry or the entry corresponding to the highest number of `Reviews`.\n",
    "3. And there is no way to tell whether the last entry is the most recent entry or not. No of `Reviews` needn't be in an ascending order. A user could delete his review, his account could be deleted which can imply that number of `Reviews` needn't be monotonically increasing. (or)\n",
    "4. We could choose to retain the data which has highest reviews.\n",
    "\n",
    "So in the following section we would write a function, which will take datasets as an argument and can delete all the multiple entries and just retaining the highest reviews. "
   ]
  },
  {
   "cell_type": "markdown",
   "metadata": {},
   "source": [
    "### Distribution of apps in the dataset\n",
    "We already know for the following data sets, this is the composition of total apps, unique apps and duplicate apps\n",
    "\n",
    "| Data Set | Unique Apps | Duplicate Apps | Total Apps |\n",
    "|----------|-------------|----------------|------------|\n",
    "| Android | 9659 | 1181 | 10840 |\n",
    "| iOS | 7197 | 0 | 7197 |\n",
    "\n",
    "##### Note: The total number of apps in the original Android data set are 10841. Kindly note that we deleted one app in cell 6, because it doesn't have all the required columns \n"
   ]
  },
  {
   "cell_type": "code",
   "execution_count": 12,
   "metadata": {
    "collapsed": false
   },
   "outputs": [
    {
     "name": "stdout",
     "output_type": "stream",
     "text": [
      "9659\n"
     ]
    }
   ],
   "source": [
    "reviews_max = {}\n",
    "for app_data in android_app_data:\n",
    "    name = app_data[0]\n",
    "    n_reviews = float(app_data[3])\n",
    "    \n",
    "    if (name in reviews_max) and (reviews_max[name] < n_reviews):\n",
    "        reviews_max[name] = n_reviews\n",
    "        \n",
    "    elif name not in reviews_max:\n",
    "        reviews_max[name] = n_reviews\n",
    "        \n",
    "print(len(reviews_max)) # should be equal to the unique apps = 9659"
   ]
  },
  {
   "cell_type": "code",
   "execution_count": 13,
   "metadata": {
    "collapsed": false
   },
   "outputs": [],
   "source": [
    "android_clean = []\n",
    "already_added = []\n",
    "\n",
    "for app_data in android_app_data:\n",
    "    name = app_data[0]\n",
    "    n_reviews = float(app_data[3])\n",
    "    \n",
    "    if (n_reviews == reviews_max[name]) and (name not in already_added):\n",
    "        android_clean.append(app_data)\n",
    "        already_added.append(name)\n",
    "        "
   ]
  },
  {
   "cell_type": "code",
   "execution_count": 14,
   "metadata": {
    "collapsed": false
   },
   "outputs": [
    {
     "name": "stdout",
     "output_type": "stream",
     "text": [
      "['Photo Editor & Candy Camera & Grid & ScrapBook', 'ART_AND_DESIGN', '4.1', '159', '19M', '10,000+', 'Free', '0', 'Everyone', 'Art & Design', 'January 7, 2018', '1.0.0', '4.0.3 and up']\n",
      "\n",
      "\n",
      "['U Launcher Lite – FREE Live Cool Themes, Hide Apps', 'ART_AND_DESIGN', '4.7', '87510', '8.7M', '5,000,000+', 'Free', '0', 'Everyone', 'Art & Design', 'August 1, 2018', '1.2.4', '4.0.3 and up']\n",
      "\n",
      "\n",
      "['Sketch - Draw & Paint', 'ART_AND_DESIGN', '4.5', '215644', '25M', '50,000,000+', 'Free', '0', 'Teen', 'Art & Design', 'June 8, 2018', 'Varies with device', '4.2 and up']\n",
      "\n",
      "\n",
      "Number of rows: 9659\n",
      "Number of columns: 13\n"
     ]
    }
   ],
   "source": [
    "explore_data(android_clean, 0, 3, True)"
   ]
  },
  {
   "cell_type": "markdown",
   "metadata": {
    "collapsed": true
   },
   "source": [
    "## Removing Non-English Apps : Part One"
   ]
  },
  {
   "cell_type": "markdown",
   "metadata": {},
   "source": [
    "We are interested in only English apps as we cater to English speaking audience. So we want to remove non-English apps from the study. \n",
    "\n",
    "We would write a function, which takes in the name of the app and tell us whether the string has non-English characters."
   ]
  },
  {
   "cell_type": "code",
   "execution_count": 15,
   "metadata": {
    "collapsed": true
   },
   "outputs": [],
   "source": [
    "def check_english_str(app_name):\n",
    "    '''\n",
    "    input : app name\n",
    "    outputs: Boolean/ False if any character doesn't belong to English ASCII\n",
    "    '''\n",
    "    \n",
    "    for c in app_name:\n",
    "        if ord(c) > 127:\n",
    "            return False\n",
    "        \n",
    "    return True\n",
    "\n"
   ]
  },
  {
   "cell_type": "code",
   "execution_count": 16,
   "metadata": {
    "collapsed": false
   },
   "outputs": [
    {
     "name": "stdout",
     "output_type": "stream",
     "text": [
      "True\n",
      "False\n",
      "False\n",
      "False\n"
     ]
    }
   ],
   "source": [
    "sample_apps = ['Instagram','爱奇艺PPS -《欢乐颂2》电视剧热播','Docs To Go™ Free Office Suite', 'Instachat 😜']\n",
    "for app in sample_apps:\n",
    "    print(check_english_str(app))\n"
   ]
  },
  {
   "cell_type": "markdown",
   "metadata": {},
   "source": [
    "## Removing non-English apps : Part two\n",
    "It should be noted that characters like '™' and emojis have ASCI greater than 127, and hence we are wrongly classifying them as non English. We've to change the function accordingly.\n",
    "\n",
    "So we will be changing our function slightly. If the input string has more than three characters that fall outside the ASCII range (0 - 127), then the function should return False (identify the string as non-English), otherwise it should return True. Although this implementation is crude, it serves our purpose here"
   ]
  },
  {
   "cell_type": "code",
   "execution_count": 17,
   "metadata": {
    "collapsed": true
   },
   "outputs": [],
   "source": [
    "def check_english_str(app_name):\n",
    "    '''\n",
    "    input : app name\n",
    "    outputs: Boolean/ False if any character doesn't belong to English ASCII\n",
    "    '''\n",
    "    cnt = 0\n",
    "    for c in app_name:\n",
    "        if ord(c) > 127:\n",
    "            if cnt > 3:\n",
    "                return False\n",
    "            cnt += 1\n",
    "    return True\n"
   ]
  },
  {
   "cell_type": "code",
   "execution_count": 18,
   "metadata": {
    "collapsed": false
   },
   "outputs": [
    {
     "name": "stdout",
     "output_type": "stream",
     "text": [
      "True\n",
      "False\n",
      "True\n",
      "True\n"
     ]
    }
   ],
   "source": [
    "sample_apps = ['Instagram','爱奇艺PPS -《欢乐颂2》电视剧热播','Docs To Go™ Free Office Suite', 'Instachat 😜']\n",
    "for app in sample_apps:\n",
    "    print(check_english_str(app))"
   ]
  },
  {
   "cell_type": "code",
   "execution_count": 19,
   "metadata": {
    "collapsed": true
   },
   "outputs": [],
   "source": [
    "android_english = []\n",
    "ios_english = []\n",
    "\n",
    "for app_row in android_clean:\n",
    "    name = app_row[0]\n",
    "    \n",
    "    if check_english_str(name) :\n",
    "        android_english.append(app_row)\n",
    "        \n",
    "for app_row in ios_app_data:\n",
    "    name = app_row[1]\n",
    "    \n",
    "    if check_english_str(name) :\n",
    "        ios_english.append(app_row)"
   ]
  },
  {
   "cell_type": "code",
   "execution_count": 20,
   "metadata": {
    "collapsed": false
   },
   "outputs": [
    {
     "name": "stdout",
     "output_type": "stream",
     "text": [
      "['Photo Editor & Candy Camera & Grid & ScrapBook', 'ART_AND_DESIGN', '4.1', '159', '19M', '10,000+', 'Free', '0', 'Everyone', 'Art & Design', 'January 7, 2018', '1.0.0', '4.0.3 and up']\n",
      "\n",
      "\n",
      "Number of rows: 9659\n",
      "Number of columns: 13\n",
      "['Photo Editor & Candy Camera & Grid & ScrapBook', 'ART_AND_DESIGN', '4.1', '159', '19M', '10,000+', 'Free', '0', 'Everyone', 'Art & Design', 'January 7, 2018', '1.0.0', '4.0.3 and up']\n",
      "\n",
      "\n",
      "Number of rows: 9619\n",
      "Number of columns: 13\n",
      "['284882215', 'Facebook', '389879808', 'USD', '0.0', '2974676', '212', '3.5', '3.5', '95.0', '4+', 'Social Networking', '37', '1', '29', '1']\n",
      "\n",
      "\n",
      "Number of rows: 7197\n",
      "Number of columns: 16\n",
      "['284882215', 'Facebook', '389879808', 'USD', '0.0', '2974676', '212', '3.5', '3.5', '95.0', '4+', 'Social Networking', '37', '1', '29', '1']\n",
      "\n",
      "\n",
      "Number of rows: 6240\n",
      "Number of columns: 16\n"
     ]
    }
   ],
   "source": [
    "explore_data(android_clean, 0, 1, True)\n",
    "explore_data(android_english, 0, 1, True)\n",
    "explore_data(ios_app_data, 0, 1, True)\n",
    "explore_data(ios_english, 0, 1, True)"
   ]
  },
  {
   "cell_type": "markdown",
   "metadata": {},
   "source": [
    "### Distribution of apps in the dataset : After removing non-English apps\n",
    "We already know for the following data sets, this is the composition of total apps, unique apps and duplicate apps\n",
    "\n",
    "| Data Set | Total Apps | Unique Apps | English\n",
    "|----------|-------------|----------------|------------|\n",
    "| Android |  10840 |9659 |9619|\n",
    "| iOS | 7197 | 7197 |6240|"
   ]
  },
  {
   "cell_type": "markdown",
   "metadata": {},
   "source": [
    "## Isolating the free Apps\n",
    "So far in the data cleaning process, we:\n",
    "- Removed inaccurate data\n",
    "- Removed duplicate app entries\n",
    "- Removed non-English apps\n",
    "\n",
    "We will write a fucntion which will isolate free apps. "
   ]
  },
  {
   "cell_type": "code",
   "execution_count": 21,
   "metadata": {
    "collapsed": true
   },
   "outputs": [],
   "source": [
    "def isolate_free_apps(ip_data_set, price_idx):\n",
    "    op_data_set = []\n",
    "    for app_row in ip_data_set:\n",
    "        if (app_row[price_idx] == '0') or (app_row[price_idx] == '0.0'):\n",
    "            op_data_set.append(app_row)\n",
    "            \n",
    "    return op_data_set"
   ]
  },
  {
   "cell_type": "code",
   "execution_count": 22,
   "metadata": {
    "collapsed": false
   },
   "outputs": [
    {
     "name": "stdout",
     "output_type": "stream",
     "text": [
      "['Photo Editor & Candy Camera & Grid & ScrapBook', 'ART_AND_DESIGN', '4.1', '159', '19M', '10,000+', 'Free', '0', 'Everyone', 'Art & Design', 'January 7, 2018', '1.0.0', '4.0.3 and up']\n",
      "\n",
      "\n",
      "Number of rows: 8869\n",
      "Number of columns: 13\n",
      "['284882215', 'Facebook', '389879808', 'USD', '0.0', '2974676', '212', '3.5', '3.5', '95.0', '4+', 'Social Networking', '37', '1', '29', '1']\n",
      "\n",
      "\n",
      "Number of rows: 3263\n",
      "Number of columns: 16\n"
     ]
    }
   ],
   "source": [
    "android_freeapp_list = isolate_free_apps(android_english, 7)\n",
    "ios_freeapp_list = isolate_free_apps(ios_english, 4)\n",
    "\n",
    "#print(ios_english[0:3])\n",
    "explore_data(android_freeapp_list, 0, 1, True)\n",
    "explore_data(ios_freeapp_list, 0, 1, True)"
   ]
  },
  {
   "cell_type": "markdown",
   "metadata": {},
   "source": [
    "### Distribution of apps in the dataset : Total apps, unique apps, English apps, free apps \n",
    "We already know for the following data sets, this is the composition of total apps, unique apps and duplicate apps\n",
    "\n",
    "| Data Set | Total Apps | Unique Apps | English | Free Apps|\n",
    "|----------|-------------|----------------|------------|-------|\n",
    "| Android |  10840 |9659 |9619|8869|\n",
    "| iOS | 7197 | 7197 |6240|3263|\n",
    "\n",
    "Analysis implies that \n",
    "- Android has more % of free apps compared to iOS.\n",
    "- Android has more % of English apps"
   ]
  },
  {
   "cell_type": "markdown",
   "metadata": {},
   "source": [
    "Our aim is to determine the kinds of apps that are likely to attract more users because the revenue is highly influenced by the numbers of users of the app.\n",
    "\n",
    "To minimize risks and overhead, our validation strategy for an app idea is comprised of three steps:\n",
    "1. Build an MVP of Android version of the app, and add it to Google Play.\n",
    "2. If the app has a good response from users, we develop it further.\n",
    "3. If the app is profitable after six months, we build an iOS version of the app and add it to the App Store.\n",
    "\n",
    "Our final aim is to release the app on both Google Play and App Store, so we need to understand the app profiles that are successful on both markets."
   ]
  },
  {
   "cell_type": "markdown",
   "metadata": {
    "collapsed": true
   },
   "source": [
    "## Analysing profiles of suceessful apps: \n",
    "It is essential to understand what are the profiles of the successful apps. If we look at the data set it can be seen that the following columns give an idea on the profiles of the apps.\n",
    "- PlayStore dataset : Column 8 and 9 correspond to the content rating and prime genre\n",
    "- AppleStore dataset : Column 10 and 11 correspond to the content rating and prime genre "
   ]
  },
  {
   "cell_type": "markdown",
   "metadata": {},
   "source": [
    "## Building frequency tables: "
   ]
  },
  {
   "cell_type": "markdown",
   "metadata": {},
   "source": [
    "We will create a function freq_table that takes in two inputs, `dataset` and `index`. \n",
    "- The function return the frequency table (as a dictionary) for the column we want. Frequencies should also be expressed as percentages."
   ]
  },
  {
   "cell_type": "code",
   "execution_count": 23,
   "metadata": {
    "collapsed": false
   },
   "outputs": [],
   "source": [
    "def freq_table(dataset, index):\n",
    "    dict_of_int = {}\n",
    "    for app_row in dataset:\n",
    "        col_of_int = app_row[index]\n",
    "        if col_of_int in dict_of_int:\n",
    "            dict_of_int[col_of_int] += 1\n",
    "        else:\n",
    "            dict_of_int[col_of_int] = 1\n",
    "                \n",
    "    total = sum(dict_of_int.values())\n",
    "    dict_int_avg = {key : round(value*100/total, 2) for key, value in dict_of_int.items() }\n",
    "    #return dict_int_avg \n",
    "    return dict_of_int\n",
    "\n",
    "prime_genre_android = freq_table(android_freeapp_list,9)\n",
    "#print(prime_genre_android['Action'])\n",
    "#print(prime_genre_android_avg['Action'])        "
   ]
  },
  {
   "cell_type": "code",
   "execution_count": 24,
   "metadata": {
    "collapsed": false
   },
   "outputs": [
    {
     "name": "stdout",
     "output_type": "stream",
     "text": [
      "\n",
      "Frequency of genres in % : Android\n",
      "\n",
      "Tools : 749\n",
      "Entertainment : 538\n",
      "Education : 476\n",
      "Business : 407\n",
      "Lifestyle : 346\n",
      "Productivity : 345\n",
      "Finance : 328\n",
      "Medical : 313\n",
      "Sports : 307\n",
      "Personalization : 294\n",
      "Communication : 287\n",
      "Action : 275\n",
      "Health & Fitness : 273\n",
      "Photography : 261\n",
      "News & Magazines : 248\n",
      "Social : 236\n",
      "Travel & Local : 206\n",
      "Shopping : 199\n",
      "Books & Reference : 191\n",
      "Simulation : 181\n",
      "Dating : 165\n",
      "Arcade : 164\n",
      "Video Players & Editors : 157\n",
      "Casual : 156\n",
      "Maps & Navigation : 125\n",
      "Food & Drink : 110\n",
      "Puzzle : 100\n",
      "Racing : 88\n",
      "Role Playing : 83\n",
      "Libraries & Demo : 83\n",
      "Auto & Vehicles : 82\n",
      "Strategy : 81\n",
      "House & Home : 73\n",
      "Weather : 71\n",
      "Events : 63\n",
      "Adventure : 60\n",
      "Comics : 54\n",
      "Beauty : 53\n",
      "Art & Design : 53\n",
      "Parenting : 44\n",
      "Card : 40\n",
      "Casino : 38\n",
      "Trivia : 37\n",
      "Educational;Education : 35\n",
      "Board : 34\n",
      "Educational : 33\n",
      "Education;Education : 30\n",
      "Word : 23\n",
      "Casual;Pretend Play : 21\n",
      "Music : 18\n",
      "Racing;Action & Adventure : 15\n",
      "Puzzle;Brain Games : 15\n",
      "Entertainment;Music & Video : 15\n",
      "Casual;Brain Games : 12\n",
      "Casual;Action & Adventure : 12\n",
      "Arcade;Action & Adventure : 11\n",
      "Action;Action & Adventure : 9\n",
      "Educational;Pretend Play : 8\n",
      "Simulation;Action & Adventure : 7\n",
      "Parenting;Education : 7\n",
      "Entertainment;Brain Games : 7\n",
      "Board;Brain Games : 7\n",
      "Parenting;Music & Video : 6\n",
      "Educational;Brain Games : 6\n",
      "Casual;Creativity : 6\n",
      "Art & Design;Creativity : 6\n",
      "Education;Pretend Play : 5\n",
      "Role Playing;Pretend Play : 4\n",
      "Education;Creativity : 4\n",
      "Role Playing;Action & Adventure : 3\n",
      "Puzzle;Action & Adventure : 3\n",
      "Entertainment;Creativity : 3\n",
      "Entertainment;Action & Adventure : 3\n",
      "Educational;Creativity : 3\n",
      "Educational;Action & Adventure : 3\n",
      "Education;Music & Video : 3\n",
      "Education;Brain Games : 3\n",
      "Education;Action & Adventure : 3\n",
      "Adventure;Action & Adventure : 3\n",
      "Video Players & Editors;Music & Video : 2\n",
      "Sports;Action & Adventure : 2\n",
      "Simulation;Pretend Play : 2\n",
      "Puzzle;Creativity : 2\n",
      "Music;Music & Video : 2\n",
      "Entertainment;Pretend Play : 2\n",
      "Casual;Education : 2\n",
      "Board;Action & Adventure : 2\n",
      "Video Players & Editors;Creativity : 1\n",
      "Trivia;Education : 1\n",
      "Travel & Local;Action & Adventure : 1\n",
      "Tools;Education : 1\n",
      "Strategy;Education : 1\n",
      "Strategy;Creativity : 1\n",
      "Strategy;Action & Adventure : 1\n",
      "Simulation;Education : 1\n",
      "Role Playing;Brain Games : 1\n",
      "Racing;Pretend Play : 1\n",
      "Puzzle;Education : 1\n",
      "Parenting;Brain Games : 1\n",
      "Music & Audio;Music & Video : 1\n",
      "Lifestyle;Pretend Play : 1\n",
      "Lifestyle;Education : 1\n",
      "Health & Fitness;Education : 1\n",
      "Health & Fitness;Action & Adventure : 1\n",
      "Entertainment;Education : 1\n",
      "Communication;Creativity : 1\n",
      "Comics;Creativity : 1\n",
      "Casual;Music & Video : 1\n",
      "Card;Action & Adventure : 1\n",
      "Books & Reference;Education : 1\n",
      "Art & Design;Pretend Play : 1\n",
      "Art & Design;Action & Adventure : 1\n",
      "Arcade;Pretend Play : 1\n",
      "Adventure;Education : 1\n",
      "\n",
      "Frequency of genres in % : iOS\n",
      "\n",
      "Games : 1884\n",
      "Entertainment : 260\n",
      "Photo & Video : 161\n",
      "Education : 118\n",
      "Social Networking : 107\n",
      "Shopping : 87\n",
      "Utilities : 82\n",
      "Sports : 69\n",
      "Music : 66\n",
      "Health & Fitness : 65\n",
      "Productivity : 58\n",
      "Lifestyle : 53\n",
      "News : 43\n",
      "Travel : 42\n",
      "Finance : 41\n",
      "Weather : 29\n",
      "Food & Drink : 29\n",
      "Reference : 18\n",
      "Business : 18\n",
      "Book : 15\n",
      "Navigation : 8\n",
      "Medical : 6\n",
      "Catalogs : 4\n"
     ]
    }
   ],
   "source": [
    "def display_table(dataset, index):\n",
    "    table = freq_table(dataset, index)\n",
    "    table_display = []\n",
    "    for key in table:\n",
    "        key_val_as_tuple = (table[key], key)\n",
    "        table_display.append(key_val_as_tuple)\n",
    "\n",
    "    table_sorted = sorted(table_display, reverse = True)\n",
    "    for entry in table_sorted:\n",
    "        print(entry[1], ':', entry[0])\n",
    "        \n",
    "print('\\nFrequency of genres in % : Android\\n')\n",
    "prime_genre_android = display_table(android_freeapp_list, 9)\n",
    "print('\\nFrequency of genres in % : iOS\\n')\n",
    "prime_genre_ios = display_table(ios_freeapp_list, 11)"
   ]
  },
  {
   "cell_type": "markdown",
   "metadata": {},
   "source": [
    "## iOS Analysis: Most common apps by Genre\n",
    "\n",
    "Following are the observations from the data which says most number of apps belong to which genre \n",
    "- Most common genre is `Games` with 57.7%\n",
    "- Second most common genre is `Entertainment` with 8%\n",
    "- Third most is `Photo & Video` with 5%\n",
    "- The general impression is that more number of apps are made for the user to engage(spend some time) rather than have productivity.\n",
    "\n",
    "It should also be noted that we are looking at particular genre. A user may install 4-5 different gaming apps, but may have only 1-2 social networking apps and only one book reading app or one study app.\n",
    "\n",
    "This data doesn't necessarily talk about utility."
   ]
  },
  {
   "cell_type": "markdown",
   "metadata": {},
   "source": [
    "## Android Analysis: Most common apps by Genre"
   ]
  },
  {
   "cell_type": "markdown",
   "metadata": {},
   "source": [
    "It should be noted that for the android data set, the observations which we've noted for iOS data is not applicable, i.e highest number of apps for fun. Here the most apps is in the genre of tools : 8%, followed by Entertainment at 6%.\n",
    "\n",
    "It should also be noted that the number of genres in Android data set are also higher compared to iOS data, suggesting that the underlying trend to be captured maybe diluted because of multiple options "
   ]
  },
  {
   "cell_type": "markdown",
   "metadata": {},
   "source": [
    "## Most popular apps by Genre on the App store\n",
    "We will find out what genres are the most popular, ie average number of installs for each app genre\n"
   ]
  },
  {
   "cell_type": "code",
   "execution_count": 25,
   "metadata": {
    "collapsed": false
   },
   "outputs": [
    {
     "name": "stdout",
     "output_type": "stream",
     "text": [
      "Catalogs 4.125 4\n",
      "Navigation 3.875 8\n",
      "Music 3.946969696969697 66\n",
      "Shopping 3.8850574712643677 87\n",
      "Lifestyle 3.358490566037736 53\n",
      "Food & Drink 3.3620689655172415 29\n",
      "Book 3.2 15\n",
      "Travel 3.4404761904761907 42\n",
      "Finance 3.1341463414634148 41\n",
      "Medical 3.0 6\n",
      "Weather 3.3620689655172415 29\n",
      "Business 3.888888888888889 18\n",
      "Games 4.01884288747346 1884\n",
      "Social Networking 3.5934579439252334 107\n",
      "Utilities 3.5304878048780486 82\n",
      "News 3.244186046511628 43\n",
      "Reference 3.6666666666666665 18\n",
      "Education 3.635593220338983 118\n",
      "Productivity 4.008620689655173 58\n",
      "Sports 3.0652173913043477 69\n",
      "Photo & Video 3.87888198757764 161\n",
      "Entertainment 3.5173076923076922 260\n",
      "Health & Fitness 3.769230769230769 65\n"
     ]
    }
   ],
   "source": [
    "prime_genre_ios = freq_table(ios_freeapp_list, 11)\n",
    "\n",
    "for key, value in prime_genre_ios.items():\n",
    "    total = 0\n",
    "    len_genre = 0\n",
    "    for app_row in ios_freeapp_list:\n",
    "        genre_app = app_row[11]\n",
    "        #print(genre_app, key)\n",
    "        if genre_app == key:\n",
    "            avg_user_rating = float(app_row[7])\n",
    "            total += avg_user_rating\n",
    "            len_genre += 1\n",
    "            \n",
    "    total = total/len_genre\n",
    "    print(key, total, len_genre)"
   ]
  },
  {
   "cell_type": "markdown",
   "metadata": {},
   "source": [
    "**Recommended profile for an iOS app**\n",
    "\n",
    "- We can observe that the highest avg rating is for the genre of apps called `catalog`. However, it should also be noted that there are only 4 apps in total belonging to that category\n",
    "- But if you look at the second category `Games`, the highest average rating is also present as well as more number of apps too.\n",
    "\n",
    "**So based on the dataset of the Appstore, it is recommended to make a Gaming app for iOS**"
   ]
  },
  {
   "cell_type": "markdown",
   "metadata": {
    "collapsed": true
   },
   "source": [
    "## Most popular apps by Genre on the Google Playstore\n",
    "In the Google PlayStore dataset, column 5 specifies how many installs has happened for a particular app. It could be seen that the column has values like '100+', '1,000+', '10,000+', etc.\n",
    "It should be noted that characters '+' and ',' should be deleted"
   ]
  },
  {
   "cell_type": "code",
   "execution_count": 28,
   "metadata": {
    "collapsed": false
   },
   "outputs": [
    {
     "name": "stdout",
     "output_type": "stream",
     "text": [
      "SPORTS 3638640 301\n",
      "TOOLS 10801391 750\n",
      "DATING 854028 165\n",
      "VIDEO_PLAYERS 24727872 159\n",
      "LIFESTYLE 1433701 347\n",
      "LIBRARIES_AND_DEMO 638503 83\n",
      "EDUCATION 1833495 103\n",
      "FAMILY 3691833 1678\n",
      "SOCIAL 23253652 236\n",
      "HOUSE_AND_HOME 1331540 73\n",
      "ENTERTAINMENT 11640705 85\n",
      "HEALTH_AND_FITNESS 4188821 273\n",
      "PRODUCTIVITY 16787331 345\n",
      "WEATHER 5074486 71\n",
      "NEWS_AND_MAGAZINES 9549178 248\n",
      "BEAUTY 513151 53\n",
      "PARENTING 542603 58\n",
      "ART_AND_DESIGN 1986335 57\n",
      "MAPS_AND_NAVIGATION 4025286 125\n",
      "AUTO_AND_VEHICLES 647317 82\n",
      "BOOKS_AND_REFERENCE 8721959 191\n",
      "TRAVEL_AND_LOCAL 13984077 207\n",
      "FOOD_AND_DRINK 1924897 110\n",
      "COMMUNICATION 38456119 287\n",
      "BUSINESS 1712290 407\n",
      "FINANCE 1387692 328\n",
      "PHOTOGRAPHY 17840110 261\n",
      "COMICS 817657 55\n",
      "EVENTS 253542 63\n",
      "PERSONALIZATION 5201482 294\n",
      "GAME 15588015 862\n",
      "MEDICAL 120550 313\n",
      "SHOPPING 7036877 199\n"
     ]
    }
   ],
   "source": [
    "category_android = freq_table(android_freeapp_list, 1)\n",
    "\n",
    "for key, value in category_android.items():\n",
    "    total = 0\n",
    "    len_category = 0\n",
    "    for app_row in android_freeapp_list:\n",
    "        category_app = app_row[1]\n",
    "        #print(genre_app, key)\n",
    "        if category_app == key:\n",
    "            no_installs = app_row[5]\n",
    "            no_installs = no_installs.replace(',','').replace('+','')\n",
    "            total += float(no_installs)\n",
    "            len_category += 1\n",
    "            \n",
    "    total = total/len_category\n",
    "    print(key, int(total), len_category)"
   ]
  },
  {
   "cell_type": "markdown",
   "metadata": {},
   "source": [
    "### Recommended profile for an android app\n",
    "- It could be seen that highest avg installs within a category is 'Family', followed by 'Tools' and 'Lifestyle'\n",
    "- If you look at the just the number of installs, 'Social', 'Tools' and 'Entertainment'\n",
    "** Considering both, the recommended app for android playstore is with category Tools **"
   ]
  },
  {
   "cell_type": "code",
   "execution_count": null,
   "metadata": {
    "collapsed": true
   },
   "outputs": [],
   "source": []
  }
 ],
 "metadata": {
  "kernelspec": {
   "display_name": "Python 3",
   "language": "python",
   "name": "python3"
  },
  "language_info": {
   "codemirror_mode": {
    "name": "ipython",
    "version": 3
   },
   "file_extension": ".py",
   "mimetype": "text/x-python",
   "name": "python",
   "nbconvert_exporter": "python",
   "pygments_lexer": "ipython3",
   "version": "3.4.3"
  }
 },
 "nbformat": 4,
 "nbformat_minor": 2
}
